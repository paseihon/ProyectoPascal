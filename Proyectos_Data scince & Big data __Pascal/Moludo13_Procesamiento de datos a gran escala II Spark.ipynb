{
  "nbformat": 4,
  "nbformat_minor": 0,
  "metadata": {
    "colab": {
      "provenance": [],
      "collapsed_sections": [
        "NEGpUPmCMVd7",
        "rgL3SFBNz67v"
      ]
    },
    "kernelspec": {
      "name": "python3",
      "display_name": "Python 3"
    },
    "language_info": {
      "name": "python"
    }
  },
  "cells": [
    {
      "cell_type": "markdown",
      "source": [
        "# Sprint 2 Pascal"
      ],
      "metadata": {
        "id": "NEGpUPmCMVd7"
      }
    },
    {
      "cell_type": "markdown",
      "source": [
        "Empezad cargando un conjunto de datos ficticios de redes sociales en un DataFrame.\n",
        "A continuación realizad consultas SQL básicas y avanzadas para explorar y comprender los datos.\n",
        "Luego, aplicad transformaciones sobre el DataFrame para realizar análisis más profundos, comparando las diferencias con respecto al uso de RDDs en el Sprint anterior.\n",
        "Además, utilizad GraphX para crear un grafo a partir de los datos de redes sociales y realizad operaciones básicas como calcular el número de conexiones o seguidores de las personas en la red."
      ],
      "metadata": {
        "id": "Wd-J4SU_MiP1"
      }
    },
    {
      "cell_type": "markdown",
      "source": [
        "Importar desde Drive"
      ],
      "metadata": {
        "id": "I1oknAveSlK0"
      }
    },
    {
      "cell_type": "code",
      "source": [
        "!pip install -U -q PyDrive\n",
        "from pydrive.auth import GoogleAuth\n",
        "from pydrive.drive import GoogleDrive\n",
        "from google.colab import auth\n",
        "from oauth2client.client import GoogleCredentials"
      ],
      "metadata": {
        "id": "eH-ugBEQSlK0",
        "colab": {
          "base_uri": "https://localhost:8080/"
        },
        "outputId": "b67b8f76-01ea-434c-da4b-b8d5dad8e5e0"
      },
      "execution_count": 2,
      "outputs": [
        {
          "output_type": "stream",
          "name": "stderr",
          "text": [
            "WARNING:root:pydrive is deprecated and no longer maintained. We recommend that you migrate your projects to pydrive2, the maintained fork of pydrive\n"
          ]
        }
      ]
    },
    {
      "cell_type": "code",
      "source": [
        "auth.authenticate_user()\n",
        "gauth = GoogleAuth()\n",
        "gauth.credentials = GoogleCredentials.get_application_default()\n",
        "drive = GoogleDrive(gauth)"
      ],
      "metadata": {
        "id": "xrYqyYBsSlK1"
      },
      "execution_count": 3,
      "outputs": []
    },
    {
      "cell_type": "code",
      "source": [
        "link = 'https://drive.google.com/open?id=1CY9oyf3YpmxjstaT3VIHOmHaewQXI0Ol'"
      ],
      "metadata": {
        "id": "0EUFxgCcSlK1"
      },
      "execution_count": 4,
      "outputs": []
    },
    {
      "cell_type": "code",
      "source": [
        "fluff, id = link.split('=')\n",
        "print (id)"
      ],
      "metadata": {
        "colab": {
          "base_uri": "https://localhost:8080/"
        },
        "outputId": "b602ecbc-1fdc-4e47-b487-600fd12cc38f",
        "id": "vMu410HHSlK1"
      },
      "execution_count": 5,
      "outputs": [
        {
          "output_type": "stream",
          "name": "stdout",
          "text": [
            "1CY9oyf3YpmxjstaT3VIHOmHaewQXI0Ol\n"
          ]
        }
      ]
    },
    {
      "cell_type": "code",
      "source": [
        "#descargamos contenido del fichero\n",
        "downloaded = drive.CreateFile({'id':id})\n",
        "downloaded.GetContentFile('telefonos_datos.csv')"
      ],
      "metadata": {
        "id": "doVi6kgqSlK2"
      },
      "execution_count": 6,
      "outputs": []
    },
    {
      "cell_type": "code",
      "source": [
        "from pyspark.sql import SparkSession\n",
        "\n",
        "spark = SparkSession.builder.appName(\"Analisis_Telefonos\").getOrCreate()"
      ],
      "metadata": {
        "id": "ellyqdmoUTti"
      },
      "execution_count": 7,
      "outputs": []
    },
    {
      "cell_type": "markdown",
      "source": [
        "Visualizamos el contenido del fichero csv con Pandas."
      ],
      "metadata": {
        "id": "QuIEA6a3SlK2"
      }
    },
    {
      "cell_type": "code",
      "source": [
        "import pandas as pd\n",
        "df = pd.read_csv('telefonos_datos.csv')\n",
        "df.head()\n"
      ],
      "metadata": {
        "colab": {
          "base_uri": "https://localhost:8080/",
          "height": 206
        },
        "outputId": "c3a2c82e-1d33-4d7a-9a6a-4a33a2bd7772",
        "id": "lL6gKwBASlK2"
      },
      "execution_count": 8,
      "outputs": [
        {
          "output_type": "execute_result",
          "data": {
            "text/plain": [
              "   Unnamed: 0 brand_name                                    model_name  \\\n",
              "0           0    ALCATEL          1 1/8GB Bluish Black (5033D-2JALUAA)   \n",
              "1           1    ALCATEL  1 5033D 1/16GB Volcano Black (5033D-2LALUAF)   \n",
              "2           2    ALCATEL  1 5033D 1/16GB Volcano Black (5033D-2LALUAF)   \n",
              "3           3    ALCATEL  1 5033D 1/16GB Volcano Black (5033D-2LALUAF)   \n",
              "4           4      Nokia                           1.3 1/16GB Charcoal   \n",
              "\n",
              "        os  popularity  best_price  lowest_price  highest_price  \\\n",
              "0  Android         422      1690.0        1529.0         1819.0   \n",
              "1  Android         323      1803.0        1659.0         2489.0   \n",
              "2  Android         299      1803.0        1659.0         2489.0   \n",
              "3  Android         287      1803.0        1659.0         2489.0   \n",
              "4  Android        1047      1999.0           NaN            NaN   \n",
              "\n",
              "   sellers_amount  screen_size  memory_size  battery_size release_date  \n",
              "0              36         5.00          8.0        2000.0      10-2020  \n",
              "1              36         5.00         16.0        2000.0       9-2020  \n",
              "2              36         5.00         16.0        2000.0       9-2020  \n",
              "3              36         5.00         16.0        2000.0       9-2020  \n",
              "4              10         5.71         16.0        3000.0       4-2020  "
            ],
            "text/html": [
              "\n",
              "  <div id=\"df-9d1ddd23-5f03-4347-b09d-2061951bc02b\" class=\"colab-df-container\">\n",
              "    <div>\n",
              "<style scoped>\n",
              "    .dataframe tbody tr th:only-of-type {\n",
              "        vertical-align: middle;\n",
              "    }\n",
              "\n",
              "    .dataframe tbody tr th {\n",
              "        vertical-align: top;\n",
              "    }\n",
              "\n",
              "    .dataframe thead th {\n",
              "        text-align: right;\n",
              "    }\n",
              "</style>\n",
              "<table border=\"1\" class=\"dataframe\">\n",
              "  <thead>\n",
              "    <tr style=\"text-align: right;\">\n",
              "      <th></th>\n",
              "      <th>Unnamed: 0</th>\n",
              "      <th>brand_name</th>\n",
              "      <th>model_name</th>\n",
              "      <th>os</th>\n",
              "      <th>popularity</th>\n",
              "      <th>best_price</th>\n",
              "      <th>lowest_price</th>\n",
              "      <th>highest_price</th>\n",
              "      <th>sellers_amount</th>\n",
              "      <th>screen_size</th>\n",
              "      <th>memory_size</th>\n",
              "      <th>battery_size</th>\n",
              "      <th>release_date</th>\n",
              "    </tr>\n",
              "  </thead>\n",
              "  <tbody>\n",
              "    <tr>\n",
              "      <th>0</th>\n",
              "      <td>0</td>\n",
              "      <td>ALCATEL</td>\n",
              "      <td>1 1/8GB Bluish Black (5033D-2JALUAA)</td>\n",
              "      <td>Android</td>\n",
              "      <td>422</td>\n",
              "      <td>1690.0</td>\n",
              "      <td>1529.0</td>\n",
              "      <td>1819.0</td>\n",
              "      <td>36</td>\n",
              "      <td>5.00</td>\n",
              "      <td>8.0</td>\n",
              "      <td>2000.0</td>\n",
              "      <td>10-2020</td>\n",
              "    </tr>\n",
              "    <tr>\n",
              "      <th>1</th>\n",
              "      <td>1</td>\n",
              "      <td>ALCATEL</td>\n",
              "      <td>1 5033D 1/16GB Volcano Black (5033D-2LALUAF)</td>\n",
              "      <td>Android</td>\n",
              "      <td>323</td>\n",
              "      <td>1803.0</td>\n",
              "      <td>1659.0</td>\n",
              "      <td>2489.0</td>\n",
              "      <td>36</td>\n",
              "      <td>5.00</td>\n",
              "      <td>16.0</td>\n",
              "      <td>2000.0</td>\n",
              "      <td>9-2020</td>\n",
              "    </tr>\n",
              "    <tr>\n",
              "      <th>2</th>\n",
              "      <td>2</td>\n",
              "      <td>ALCATEL</td>\n",
              "      <td>1 5033D 1/16GB Volcano Black (5033D-2LALUAF)</td>\n",
              "      <td>Android</td>\n",
              "      <td>299</td>\n",
              "      <td>1803.0</td>\n",
              "      <td>1659.0</td>\n",
              "      <td>2489.0</td>\n",
              "      <td>36</td>\n",
              "      <td>5.00</td>\n",
              "      <td>16.0</td>\n",
              "      <td>2000.0</td>\n",
              "      <td>9-2020</td>\n",
              "    </tr>\n",
              "    <tr>\n",
              "      <th>3</th>\n",
              "      <td>3</td>\n",
              "      <td>ALCATEL</td>\n",
              "      <td>1 5033D 1/16GB Volcano Black (5033D-2LALUAF)</td>\n",
              "      <td>Android</td>\n",
              "      <td>287</td>\n",
              "      <td>1803.0</td>\n",
              "      <td>1659.0</td>\n",
              "      <td>2489.0</td>\n",
              "      <td>36</td>\n",
              "      <td>5.00</td>\n",
              "      <td>16.0</td>\n",
              "      <td>2000.0</td>\n",
              "      <td>9-2020</td>\n",
              "    </tr>\n",
              "    <tr>\n",
              "      <th>4</th>\n",
              "      <td>4</td>\n",
              "      <td>Nokia</td>\n",
              "      <td>1.3 1/16GB Charcoal</td>\n",
              "      <td>Android</td>\n",
              "      <td>1047</td>\n",
              "      <td>1999.0</td>\n",
              "      <td>NaN</td>\n",
              "      <td>NaN</td>\n",
              "      <td>10</td>\n",
              "      <td>5.71</td>\n",
              "      <td>16.0</td>\n",
              "      <td>3000.0</td>\n",
              "      <td>4-2020</td>\n",
              "    </tr>\n",
              "  </tbody>\n",
              "</table>\n",
              "</div>\n",
              "    <div class=\"colab-df-buttons\">\n",
              "\n",
              "  <div class=\"colab-df-container\">\n",
              "    <button class=\"colab-df-convert\" onclick=\"convertToInteractive('df-9d1ddd23-5f03-4347-b09d-2061951bc02b')\"\n",
              "            title=\"Convert this dataframe to an interactive table.\"\n",
              "            style=\"display:none;\">\n",
              "\n",
              "  <svg xmlns=\"http://www.w3.org/2000/svg\" height=\"24px\" viewBox=\"0 -960 960 960\">\n",
              "    <path d=\"M120-120v-720h720v720H120Zm60-500h600v-160H180v160Zm220 220h160v-160H400v160Zm0 220h160v-160H400v160ZM180-400h160v-160H180v160Zm440 0h160v-160H620v160ZM180-180h160v-160H180v160Zm440 0h160v-160H620v160Z\"/>\n",
              "  </svg>\n",
              "    </button>\n",
              "\n",
              "  <style>\n",
              "    .colab-df-container {\n",
              "      display:flex;\n",
              "      gap: 12px;\n",
              "    }\n",
              "\n",
              "    .colab-df-convert {\n",
              "      background-color: #E8F0FE;\n",
              "      border: none;\n",
              "      border-radius: 50%;\n",
              "      cursor: pointer;\n",
              "      display: none;\n",
              "      fill: #1967D2;\n",
              "      height: 32px;\n",
              "      padding: 0 0 0 0;\n",
              "      width: 32px;\n",
              "    }\n",
              "\n",
              "    .colab-df-convert:hover {\n",
              "      background-color: #E2EBFA;\n",
              "      box-shadow: 0px 1px 2px rgba(60, 64, 67, 0.3), 0px 1px 3px 1px rgba(60, 64, 67, 0.15);\n",
              "      fill: #174EA6;\n",
              "    }\n",
              "\n",
              "    .colab-df-buttons div {\n",
              "      margin-bottom: 4px;\n",
              "    }\n",
              "\n",
              "    [theme=dark] .colab-df-convert {\n",
              "      background-color: #3B4455;\n",
              "      fill: #D2E3FC;\n",
              "    }\n",
              "\n",
              "    [theme=dark] .colab-df-convert:hover {\n",
              "      background-color: #434B5C;\n",
              "      box-shadow: 0px 1px 3px 1px rgba(0, 0, 0, 0.15);\n",
              "      filter: drop-shadow(0px 1px 2px rgba(0, 0, 0, 0.3));\n",
              "      fill: #FFFFFF;\n",
              "    }\n",
              "  </style>\n",
              "\n",
              "    <script>\n",
              "      const buttonEl =\n",
              "        document.querySelector('#df-9d1ddd23-5f03-4347-b09d-2061951bc02b button.colab-df-convert');\n",
              "      buttonEl.style.display =\n",
              "        google.colab.kernel.accessAllowed ? 'block' : 'none';\n",
              "\n",
              "      async function convertToInteractive(key) {\n",
              "        const element = document.querySelector('#df-9d1ddd23-5f03-4347-b09d-2061951bc02b');\n",
              "        const dataTable =\n",
              "          await google.colab.kernel.invokeFunction('convertToInteractive',\n",
              "                                                    [key], {});\n",
              "        if (!dataTable) return;\n",
              "\n",
              "        const docLinkHtml = 'Like what you see? Visit the ' +\n",
              "          '<a target=\"_blank\" href=https://colab.research.google.com/notebooks/data_table.ipynb>data table notebook</a>'\n",
              "          + ' to learn more about interactive tables.';\n",
              "        element.innerHTML = '';\n",
              "        dataTable['output_type'] = 'display_data';\n",
              "        await google.colab.output.renderOutput(dataTable, element);\n",
              "        const docLink = document.createElement('div');\n",
              "        docLink.innerHTML = docLinkHtml;\n",
              "        element.appendChild(docLink);\n",
              "      }\n",
              "    </script>\n",
              "  </div>\n",
              "\n",
              "\n",
              "    <div id=\"df-8d5b1325-ad0b-4005-808c-6b06bc1a9704\">\n",
              "      <button class=\"colab-df-quickchart\" onclick=\"quickchart('df-8d5b1325-ad0b-4005-808c-6b06bc1a9704')\"\n",
              "                title=\"Suggest charts\"\n",
              "                style=\"display:none;\">\n",
              "\n",
              "<svg xmlns=\"http://www.w3.org/2000/svg\" height=\"24px\"viewBox=\"0 0 24 24\"\n",
              "     width=\"24px\">\n",
              "    <g>\n",
              "        <path d=\"M19 3H5c-1.1 0-2 .9-2 2v14c0 1.1.9 2 2 2h14c1.1 0 2-.9 2-2V5c0-1.1-.9-2-2-2zM9 17H7v-7h2v7zm4 0h-2V7h2v10zm4 0h-2v-4h2v4z\"/>\n",
              "    </g>\n",
              "</svg>\n",
              "      </button>\n",
              "\n",
              "<style>\n",
              "  .colab-df-quickchart {\n",
              "      --bg-color: #E8F0FE;\n",
              "      --fill-color: #1967D2;\n",
              "      --hover-bg-color: #E2EBFA;\n",
              "      --hover-fill-color: #174EA6;\n",
              "      --disabled-fill-color: #AAA;\n",
              "      --disabled-bg-color: #DDD;\n",
              "  }\n",
              "\n",
              "  [theme=dark] .colab-df-quickchart {\n",
              "      --bg-color: #3B4455;\n",
              "      --fill-color: #D2E3FC;\n",
              "      --hover-bg-color: #434B5C;\n",
              "      --hover-fill-color: #FFFFFF;\n",
              "      --disabled-bg-color: #3B4455;\n",
              "      --disabled-fill-color: #666;\n",
              "  }\n",
              "\n",
              "  .colab-df-quickchart {\n",
              "    background-color: var(--bg-color);\n",
              "    border: none;\n",
              "    border-radius: 50%;\n",
              "    cursor: pointer;\n",
              "    display: none;\n",
              "    fill: var(--fill-color);\n",
              "    height: 32px;\n",
              "    padding: 0;\n",
              "    width: 32px;\n",
              "  }\n",
              "\n",
              "  .colab-df-quickchart:hover {\n",
              "    background-color: var(--hover-bg-color);\n",
              "    box-shadow: 0 1px 2px rgba(60, 64, 67, 0.3), 0 1px 3px 1px rgba(60, 64, 67, 0.15);\n",
              "    fill: var(--button-hover-fill-color);\n",
              "  }\n",
              "\n",
              "  .colab-df-quickchart-complete:disabled,\n",
              "  .colab-df-quickchart-complete:disabled:hover {\n",
              "    background-color: var(--disabled-bg-color);\n",
              "    fill: var(--disabled-fill-color);\n",
              "    box-shadow: none;\n",
              "  }\n",
              "\n",
              "  .colab-df-spinner {\n",
              "    border: 2px solid var(--fill-color);\n",
              "    border-color: transparent;\n",
              "    border-bottom-color: var(--fill-color);\n",
              "    animation:\n",
              "      spin 1s steps(1) infinite;\n",
              "  }\n",
              "\n",
              "  @keyframes spin {\n",
              "    0% {\n",
              "      border-color: transparent;\n",
              "      border-bottom-color: var(--fill-color);\n",
              "      border-left-color: var(--fill-color);\n",
              "    }\n",
              "    20% {\n",
              "      border-color: transparent;\n",
              "      border-left-color: var(--fill-color);\n",
              "      border-top-color: var(--fill-color);\n",
              "    }\n",
              "    30% {\n",
              "      border-color: transparent;\n",
              "      border-left-color: var(--fill-color);\n",
              "      border-top-color: var(--fill-color);\n",
              "      border-right-color: var(--fill-color);\n",
              "    }\n",
              "    40% {\n",
              "      border-color: transparent;\n",
              "      border-right-color: var(--fill-color);\n",
              "      border-top-color: var(--fill-color);\n",
              "    }\n",
              "    60% {\n",
              "      border-color: transparent;\n",
              "      border-right-color: var(--fill-color);\n",
              "    }\n",
              "    80% {\n",
              "      border-color: transparent;\n",
              "      border-right-color: var(--fill-color);\n",
              "      border-bottom-color: var(--fill-color);\n",
              "    }\n",
              "    90% {\n",
              "      border-color: transparent;\n",
              "      border-bottom-color: var(--fill-color);\n",
              "    }\n",
              "  }\n",
              "</style>\n",
              "\n",
              "      <script>\n",
              "        async function quickchart(key) {\n",
              "          const quickchartButtonEl =\n",
              "            document.querySelector('#' + key + ' button');\n",
              "          quickchartButtonEl.disabled = true;  // To prevent multiple clicks.\n",
              "          quickchartButtonEl.classList.add('colab-df-spinner');\n",
              "          try {\n",
              "            const charts = await google.colab.kernel.invokeFunction(\n",
              "                'suggestCharts', [key], {});\n",
              "          } catch (error) {\n",
              "            console.error('Error during call to suggestCharts:', error);\n",
              "          }\n",
              "          quickchartButtonEl.classList.remove('colab-df-spinner');\n",
              "          quickchartButtonEl.classList.add('colab-df-quickchart-complete');\n",
              "        }\n",
              "        (() => {\n",
              "          let quickchartButtonEl =\n",
              "            document.querySelector('#df-8d5b1325-ad0b-4005-808c-6b06bc1a9704 button');\n",
              "          quickchartButtonEl.style.display =\n",
              "            google.colab.kernel.accessAllowed ? 'block' : 'none';\n",
              "        })();\n",
              "      </script>\n",
              "    </div>\n",
              "\n",
              "    </div>\n",
              "  </div>\n"
            ],
            "application/vnd.google.colaboratory.intrinsic+json": {
              "type": "dataframe",
              "variable_name": "df",
              "summary": "{\n  \"name\": \"df\",\n  \"rows\": 1224,\n  \"fields\": [\n    {\n      \"column\": \"Unnamed: 0\",\n      \"properties\": {\n        \"dtype\": \"number\",\n        \"std\": 353,\n        \"min\": 0,\n        \"max\": 1223,\n        \"num_unique_values\": 1224,\n        \"samples\": [\n          661,\n          220,\n          155\n        ],\n        \"semantic_type\": \"\",\n        \"description\": \"\"\n      }\n    },\n    {\n      \"column\": \"brand_name\",\n      \"properties\": {\n        \"dtype\": \"category\",\n        \"num_unique_values\": 64,\n        \"samples\": [\n          \"Jinga\",\n          \"Viaan\",\n          \"ALCATEL\"\n        ],\n        \"semantic_type\": \"\",\n        \"description\": \"\"\n      }\n    },\n    {\n      \"column\": \"model_name\",\n      \"properties\": {\n        \"dtype\": \"string\",\n        \"num_unique_values\": 1068,\n        \"samples\": [\n          \"Redmi Note 4x 4/64GB Gold\",\n          \"Black Shark 3 8/128GB Black\",\n          \"X7 Dual Sim 6/128GB Black\"\n        ],\n        \"semantic_type\": \"\",\n        \"description\": \"\"\n      }\n    },\n    {\n      \"column\": \"os\",\n      \"properties\": {\n        \"dtype\": \"category\",\n        \"num_unique_values\": 6,\n        \"samples\": [\n          \"Android\",\n          \"iOS\",\n          \"KAIOS\"\n        ],\n        \"semantic_type\": \"\",\n        \"description\": \"\"\n      }\n    },\n    {\n      \"column\": \"popularity\",\n      \"properties\": {\n        \"dtype\": \"number\",\n        \"std\": 353,\n        \"min\": 1,\n        \"max\": 1224,\n        \"num_unique_values\": 1224,\n        \"samples\": [\n          456,\n          869,\n          947\n        ],\n        \"semantic_type\": \"\",\n        \"description\": \"\"\n      }\n    },\n    {\n      \"column\": \"best_price\",\n      \"properties\": {\n        \"dtype\": \"number\",\n        \"std\": 8891.836259696875,\n        \"min\": 214.0,\n        \"max\": 56082.0,\n        \"num_unique_values\": 970,\n        \"samples\": [\n          1810.0,\n          301.0,\n          14079.0\n        ],\n        \"semantic_type\": \"\",\n        \"description\": \"\"\n      }\n    },\n    {\n      \"column\": \"lowest_price\",\n      \"properties\": {\n        \"dtype\": \"number\",\n        \"std\": 8560.959058888115,\n        \"min\": 198.0,\n        \"max\": 49999.0,\n        \"num_unique_values\": 666,\n        \"samples\": [\n          41996.0,\n          14910.0,\n          8000.0\n        ],\n        \"semantic_type\": \"\",\n        \"description\": \"\"\n      }\n    },\n    {\n      \"column\": \"highest_price\",\n      \"properties\": {\n        \"dtype\": \"number\",\n        \"std\": 11514.936818447717,\n        \"min\": 229.0,\n        \"max\": 69999.0,\n        \"num_unique_values\": 648,\n        \"samples\": [\n          23113.0,\n          7154.0,\n          33720.0\n        ],\n        \"semantic_type\": \"\",\n        \"description\": \"\"\n      }\n    },\n    {\n      \"column\": \"sellers_amount\",\n      \"properties\": {\n        \"dtype\": \"number\",\n        \"std\": 20,\n        \"min\": 1,\n        \"max\": 125,\n        \"num_unique_values\": 94,\n        \"samples\": [\n          66,\n          17,\n          40\n        ],\n        \"semantic_type\": \"\",\n        \"description\": \"\"\n      }\n    },\n    {\n      \"column\": \"screen_size\",\n      \"properties\": {\n        \"dtype\": \"number\",\n        \"std\": 1.47699134094907,\n        \"min\": 1.4,\n        \"max\": 8.1,\n        \"num_unique_values\": 82,\n        \"samples\": [\n          7.12,\n          5.0,\n          6.41\n        ],\n        \"semantic_type\": \"\",\n        \"description\": \"\"\n      }\n    },\n    {\n      \"column\": \"memory_size\",\n      \"properties\": {\n        \"dtype\": \"number\",\n        \"std\": 111.92257619315525,\n        \"min\": 0.0032,\n        \"max\": 1000.0,\n        \"num_unique_values\": 15,\n        \"samples\": [\n          0.032,\n          512.0,\n          8.0\n        ],\n        \"semantic_type\": \"\",\n        \"description\": \"\"\n      }\n    },\n    {\n      \"column\": \"battery_size\",\n      \"properties\": {\n        \"dtype\": \"number\",\n        \"std\": 1668.2687739164637,\n        \"min\": 460.0,\n        \"max\": 18800.0,\n        \"num_unique_values\": 151,\n        \"samples\": [\n          3505.0,\n          4035.0,\n          5300.0\n        ],\n        \"semantic_type\": \"\",\n        \"description\": \"\"\n      }\n    },\n    {\n      \"column\": \"release_date\",\n      \"properties\": {\n        \"dtype\": \"object\",\n        \"num_unique_values\": 73,\n        \"samples\": [\n          \"12-2018\",\n          \"9-2015\",\n          \"8-2019\"\n        ],\n        \"semantic_type\": \"\",\n        \"description\": \"\"\n      }\n    }\n  ]\n}"
            }
          },
          "metadata": {},
          "execution_count": 8
        }
      ]
    },
    {
      "cell_type": "markdown",
      "source": [
        "Explorando los datos con SQL Spark"
      ],
      "metadata": {
        "id": "JsRz7be16qXY"
      }
    },
    {
      "cell_type": "code",
      "source": [
        "#Cargar el daframe y listar los primeros registros\n",
        "df = spark.read.csv('telefonos_datos.csv', header=True, inferSchema=True)\n",
        "df.show()"
      ],
      "metadata": {
        "colab": {
          "base_uri": "https://localhost:8080/"
        },
        "id": "aE9_vMZo63G3",
        "outputId": "83fda954-d1ca-48de-d726-cf0a05ddc724"
      },
      "execution_count": 9,
      "outputs": [
        {
          "output_type": "stream",
          "name": "stdout",
          "text": [
            "+---+----------+--------------------+-------+----------+----------+------------+-------------+--------------+-----------+-----------+------------+------------+\n",
            "|_c0|brand_name|          model_name|     os|popularity|best_price|lowest_price|highest_price|sellers_amount|screen_size|memory_size|battery_size|release_date|\n",
            "+---+----------+--------------------+-------+----------+----------+------------+-------------+--------------+-----------+-----------+------------+------------+\n",
            "|  0|   ALCATEL|1 1/8GB Bluish Bl...|Android|       422|    1690.0|      1529.0|       1819.0|            36|        5.0|        8.0|      2000.0|     10-2020|\n",
            "|  1|   ALCATEL|1 5033D 1/16GB Vo...|Android|       323|    1803.0|      1659.0|       2489.0|            36|        5.0|       16.0|      2000.0|      9-2020|\n",
            "|  2|   ALCATEL|1 5033D 1/16GB Vo...|Android|       299|    1803.0|      1659.0|       2489.0|            36|        5.0|       16.0|      2000.0|      9-2020|\n",
            "|  3|   ALCATEL|1 5033D 1/16GB Vo...|Android|       287|    1803.0|      1659.0|       2489.0|            36|        5.0|       16.0|      2000.0|      9-2020|\n",
            "|  4|     Nokia| 1.3 1/16GB Charcoal|Android|      1047|    1999.0|        NULL|         NULL|            10|       5.71|       16.0|      3000.0|      4-2020|\n",
            "|  5|     Honor|     10 6/64GB Black|Android|        71|   10865.0|     10631.0|      11099.0|             2|        5.8|       64.0|      3400.0|      6-2018|\n",
            "|  6|     Honor| 10 Lite 3/32GB Blue|Android|       424|    3999.0|        NULL|         NULL|             2|       6.21|       32.0|      3400.0|     12-2018|\n",
            "|  7|     Honor|10 Lite 4/64GB Black|Android|       134|    4973.0|      4733.0|       5295.0|             6|       6.21|       64.0|      3400.0|      1-2019|\n",
            "|  8|     Honor|10 lite 3/128GB Blue|Android|       477|    5100.0|      4990.0|       5222.0|             3|       6.21|      128.0|      3400.0|      1-2021|\n",
            "|  9|     Honor|10 lite 3/64GB Black|Android|       215|    4948.0|      4646.0|       5372.0|             8|       6.21|       64.0|      3400.0|     12-2018|\n",
            "| 10|     Honor|10 lite 3/64GB Black|Android|       179|    4948.0|      4646.0|       5372.0|             8|       6.21|       64.0|      3400.0|     12-2018|\n",
            "| 11|     Honor| 10 lite 3/64GB Blue|Android|       437|    5165.0|      4897.0|       5559.0|             7|       6.21|       64.0|      3400.0|     12-2018|\n",
            "| 12|     Nokia|105 DS 2019 Pink ...|   NULL|        18|     583.0|       528.0|        649.0|            28|       1.77|      0.004|       800.0|     10-2019|\n",
            "| 13|     Nokia|105 Dual Sim 2019...|   NULL|       262|     601.0|       539.0|        703.0|            31|       1.77|       NULL|       800.0|     11-2019|\n",
            "| 14|     Nokia|105 Dual Sim 2019...|   NULL|       274|     601.0|       539.0|        703.0|            31|       1.77|       NULL|       800.0|     11-2019|\n",
            "| 15|     Nokia|105 Dual Sim New ...|   NULL|       507|     552.0|       499.0|        606.0|             2|        1.8|      0.004|       800.0|      9-2017|\n",
            "| 16|     Nokia|105 Single Sim 20...|   NULL|       805|     536.0|       449.0|        642.0|            31|       1.77|       NULL|       800.0|     11-2019|\n",
            "| 17|     Nokia|105 Single Sim 20...|   NULL|       692|     547.0|       496.0|        709.0|            35|       1.77|       NULL|       800.0|     11-2019|\n",
            "| 18|     Nokia|105 Single Sim Ne...|   NULL|       460|     663.0|       499.0|       1169.0|             5|        1.8|      0.004|       800.0|      9-2017|\n",
            "| 19|     Nokia|105 Single Sim Ne...|   NULL|       455|     663.0|       499.0|       1169.0|             5|        1.8|      0.004|       800.0|      9-2017|\n",
            "+---+----------+--------------------+-------+----------+----------+------------+-------------+--------------+-----------+-----------+------------+------------+\n",
            "only showing top 20 rows\n",
            "\n"
          ]
        }
      ]
    },
    {
      "cell_type": "code",
      "source": [
        "# Mostramos el DataFrame\n",
        "df.show()"
      ],
      "metadata": {
        "colab": {
          "base_uri": "https://localhost:8080/"
        },
        "id": "TXm8eKQkTnH9",
        "outputId": "eae856ec-d64b-4d22-d0a0-11e02547cc52"
      },
      "execution_count": 10,
      "outputs": [
        {
          "output_type": "stream",
          "name": "stdout",
          "text": [
            "+---+----------+--------------------+-------+----------+----------+------------+-------------+--------------+-----------+-----------+------------+------------+\n",
            "|_c0|brand_name|          model_name|     os|popularity|best_price|lowest_price|highest_price|sellers_amount|screen_size|memory_size|battery_size|release_date|\n",
            "+---+----------+--------------------+-------+----------+----------+------------+-------------+--------------+-----------+-----------+------------+------------+\n",
            "|  0|   ALCATEL|1 1/8GB Bluish Bl...|Android|       422|    1690.0|      1529.0|       1819.0|            36|        5.0|        8.0|      2000.0|     10-2020|\n",
            "|  1|   ALCATEL|1 5033D 1/16GB Vo...|Android|       323|    1803.0|      1659.0|       2489.0|            36|        5.0|       16.0|      2000.0|      9-2020|\n",
            "|  2|   ALCATEL|1 5033D 1/16GB Vo...|Android|       299|    1803.0|      1659.0|       2489.0|            36|        5.0|       16.0|      2000.0|      9-2020|\n",
            "|  3|   ALCATEL|1 5033D 1/16GB Vo...|Android|       287|    1803.0|      1659.0|       2489.0|            36|        5.0|       16.0|      2000.0|      9-2020|\n",
            "|  4|     Nokia| 1.3 1/16GB Charcoal|Android|      1047|    1999.0|        NULL|         NULL|            10|       5.71|       16.0|      3000.0|      4-2020|\n",
            "|  5|     Honor|     10 6/64GB Black|Android|        71|   10865.0|     10631.0|      11099.0|             2|        5.8|       64.0|      3400.0|      6-2018|\n",
            "|  6|     Honor| 10 Lite 3/32GB Blue|Android|       424|    3999.0|        NULL|         NULL|             2|       6.21|       32.0|      3400.0|     12-2018|\n",
            "|  7|     Honor|10 Lite 4/64GB Black|Android|       134|    4973.0|      4733.0|       5295.0|             6|       6.21|       64.0|      3400.0|      1-2019|\n",
            "|  8|     Honor|10 lite 3/128GB Blue|Android|       477|    5100.0|      4990.0|       5222.0|             3|       6.21|      128.0|      3400.0|      1-2021|\n",
            "|  9|     Honor|10 lite 3/64GB Black|Android|       215|    4948.0|      4646.0|       5372.0|             8|       6.21|       64.0|      3400.0|     12-2018|\n",
            "| 10|     Honor|10 lite 3/64GB Black|Android|       179|    4948.0|      4646.0|       5372.0|             8|       6.21|       64.0|      3400.0|     12-2018|\n",
            "| 11|     Honor| 10 lite 3/64GB Blue|Android|       437|    5165.0|      4897.0|       5559.0|             7|       6.21|       64.0|      3400.0|     12-2018|\n",
            "| 12|     Nokia|105 DS 2019 Pink ...|   NULL|        18|     583.0|       528.0|        649.0|            28|       1.77|      0.004|       800.0|     10-2019|\n",
            "| 13|     Nokia|105 Dual Sim 2019...|   NULL|       262|     601.0|       539.0|        703.0|            31|       1.77|       NULL|       800.0|     11-2019|\n",
            "| 14|     Nokia|105 Dual Sim 2019...|   NULL|       274|     601.0|       539.0|        703.0|            31|       1.77|       NULL|       800.0|     11-2019|\n",
            "| 15|     Nokia|105 Dual Sim New ...|   NULL|       507|     552.0|       499.0|        606.0|             2|        1.8|      0.004|       800.0|      9-2017|\n",
            "| 16|     Nokia|105 Single Sim 20...|   NULL|       805|     536.0|       449.0|        642.0|            31|       1.77|       NULL|       800.0|     11-2019|\n",
            "| 17|     Nokia|105 Single Sim 20...|   NULL|       692|     547.0|       496.0|        709.0|            35|       1.77|       NULL|       800.0|     11-2019|\n",
            "| 18|     Nokia|105 Single Sim Ne...|   NULL|       460|     663.0|       499.0|       1169.0|             5|        1.8|      0.004|       800.0|      9-2017|\n",
            "| 19|     Nokia|105 Single Sim Ne...|   NULL|       455|     663.0|       499.0|       1169.0|             5|        1.8|      0.004|       800.0|      9-2017|\n",
            "+---+----------+--------------------+-------+----------+----------+------------+-------------+--------------+-----------+-----------+------------+------------+\n",
            "only showing top 20 rows\n",
            "\n"
          ]
        }
      ]
    },
    {
      "cell_type": "code",
      "source": [
        "# Mostramos el Esquema\n",
        "df.printSchema()"
      ],
      "metadata": {
        "colab": {
          "base_uri": "https://localhost:8080/"
        },
        "id": "MaR_SiWtTvs1",
        "outputId": "1b44512b-3d03-4973-ff05-73ffb77563dd"
      },
      "execution_count": 11,
      "outputs": [
        {
          "output_type": "stream",
          "name": "stdout",
          "text": [
            "root\n",
            " |-- _c0: integer (nullable = true)\n",
            " |-- brand_name: string (nullable = true)\n",
            " |-- model_name: string (nullable = true)\n",
            " |-- os: string (nullable = true)\n",
            " |-- popularity: integer (nullable = true)\n",
            " |-- best_price: double (nullable = true)\n",
            " |-- lowest_price: double (nullable = true)\n",
            " |-- highest_price: double (nullable = true)\n",
            " |-- sellers_amount: integer (nullable = true)\n",
            " |-- screen_size: double (nullable = true)\n",
            " |-- memory_size: double (nullable = true)\n",
            " |-- battery_size: double (nullable = true)\n",
            " |-- release_date: string (nullable = true)\n",
            "\n"
          ]
        }
      ]
    },
    {
      "cell_type": "markdown",
      "source": [
        "Consultas SQL básicas y avanzadas"
      ],
      "metadata": {
        "id": "P689WsLeT4Pr"
      }
    },
    {
      "cell_type": "code",
      "source": [
        "from pyspark.sql.functions import *\n",
        "#Top 5 teléfonos más populares\n",
        "top_5_contactos_populares= df.select(\"brand_name\", \"model_name\", \"os\", \"popularity\")\\\n",
        ".orderBy(col(\"popularity\").desc()).limit(5)\n",
        "display(top_5_contactos_populares.show(5))"
      ],
      "metadata": {
        "colab": {
          "base_uri": "https://localhost:8080/",
          "height": 208
        },
        "id": "HDbUVD9pVJY9",
        "outputId": "fb1d93bc-9687-4b8a-8949-2c0e476e07f6"
      },
      "execution_count": 12,
      "outputs": [
        {
          "output_type": "stream",
          "name": "stdout",
          "text": [
            "+----------+--------------------+-------+----------+\n",
            "|brand_name|          model_name|     os|popularity|\n",
            "+----------+--------------------+-------+----------+\n",
            "|     Apple|iPhone 12 Pro 128...|    iOS|      1224|\n",
            "|    Google|Pixel 4a 6/128GB ...|Android|      1223|\n",
            "|    Xiaomi|Poco X3 NFC 6/128...|Android|      1222|\n",
            "|     Apple|iPhone 11 64GB Bl...|    iOS|      1221|\n",
            "|   Samsung|Galaxy M51 6/128G...|Android|      1220|\n",
            "+----------+--------------------+-------+----------+\n",
            "\n"
          ]
        },
        {
          "output_type": "display_data",
          "data": {
            "text/plain": [
              "None"
            ]
          },
          "metadata": {}
        }
      ]
    },
    {
      "cell_type": "code",
      "source": [
        "#romedio de precios por sistema operativo"
      ],
      "metadata": {
        "id": "zfFUti9xVlRg"
      },
      "execution_count": 13,
      "outputs": []
    },
    {
      "cell_type": "code",
      "source": [
        "consulta_promedios_por_os = df.groupBy(\"os\") \\\n",
        "    .agg(\n",
        "        round(avg(\"best_price\"), 2).alias(\"avg_best_price\"),\n",
        "        round(avg(\"highest_price\"), 2).alias(\"avg_high_price\")\n",
        "    )\n",
        "display(consulta_promedios_por_os.show())"
      ],
      "metadata": {
        "colab": {
          "base_uri": "https://localhost:8080/",
          "height": 243
        },
        "id": "CqByawH8WD2g",
        "outputId": "3937e78d-555b-49ea-a3ca-84f0ea5eace7"
      },
      "execution_count": 14,
      "outputs": [
        {
          "output_type": "stream",
          "name": "stdout",
          "text": [
            "+------------+--------------+--------------+\n",
            "|          os|avg_best_price|avg_high_price|\n",
            "+------------+--------------+--------------+\n",
            "|       KAIOS|        1036.0|        1059.0|\n",
            "|    OxygenOS|       6612.67|       8365.67|\n",
            "|         iOS|      20869.61|      26588.09|\n",
            "|        NULL|        758.23|        886.14|\n",
            "|        EMUI|       31656.0|       33089.0|\n",
            "|WindowsPhone|        2600.0|          NULL|\n",
            "|     Android|       8009.96|        9718.1|\n",
            "+------------+--------------+--------------+\n",
            "\n"
          ]
        },
        {
          "output_type": "display_data",
          "data": {
            "text/plain": [
              "None"
            ]
          },
          "metadata": {}
        }
      ]
    },
    {
      "cell_type": "code",
      "source": [
        "#Modelos lanzados después de 2020 y con batería > 3000 mAh\n",
        "consulta_bateria_lanzamiento = df.filter(\n",
        "    (col(\"battery_size\") > 3000) &\n",
        "    (col(\"release_date\").contains(\"202\"))\n",
        ").select(\"brand_name\", \"model_name\", \"battery_size\", \"release_date\")\n",
        "display(consulta_bateria_lanzamiento.show(5))"
      ],
      "metadata": {
        "colab": {
          "base_uri": "https://localhost:8080/",
          "height": 225
        },
        "id": "c3kJNcLqWVjR",
        "outputId": "71cbd65f-25a7-4d3c-aae1-14fe1ecfda6d"
      },
      "execution_count": 15,
      "outputs": [
        {
          "output_type": "stream",
          "name": "stdout",
          "text": [
            "+----------+--------------------+------------+------------+\n",
            "|brand_name|          model_name|battery_size|release_date|\n",
            "+----------+--------------------+------------+------------+\n",
            "|     Honor|10 lite 3/128GB Blue|      3400.0|      1-2021|\n",
            "|     Meizu|16X 6/128GB Dual ...|      3100.0|      3-2020|\n",
            "|     Meizu|16Xs 6/128GB Pear...|      4000.0|     11-2020|\n",
            "|   ALCATEL|1SE 3/32GB Power ...|      4000.0|     10-2020|\n",
            "|   ALCATEL|1SE 4/128GB Agate...|      4000.0|     10-2020|\n",
            "+----------+--------------------+------------+------------+\n",
            "only showing top 5 rows\n",
            "\n"
          ]
        },
        {
          "output_type": "display_data",
          "data": {
            "text/plain": [
              "None"
            ]
          },
          "metadata": {}
        }
      ]
    },
    {
      "cell_type": "code",
      "source": [
        "#Diferencia significativa entre best_price y lowest_price\n",
        "consulta_diferencia_precio = df.withColumn(\"diferencia\", col(\"best_price\") - col(\"lowest_price\")) \\\n",
        "                               .filter(col(\"diferencia\") > 300) \\\n",
        "                               .select(\"brand_name\", \"model_name\", \"best_price\", \"lowest_price\", \"diferencia\") \\\n",
        "                               .orderBy(col(\"diferencia\").desc())\n",
        "\n",
        "display(consulta_diferencia_precio.show(5))\n"
      ],
      "metadata": {
        "colab": {
          "base_uri": "https://localhost:8080/",
          "height": 225
        },
        "id": "d4JJyGOaWWta",
        "outputId": "b4cf9541-078f-4964-d4af-23aff92ef4b0"
      },
      "execution_count": 16,
      "outputs": [
        {
          "output_type": "stream",
          "name": "stdout",
          "text": [
            "+----------+--------------------+----------+------------+----------+\n",
            "|brand_name|          model_name|best_price|lowest_price|diferencia|\n",
            "+----------+--------------------+----------+------------+----------+\n",
            "|   Samsung|Galaxy Note20 Ult...|   39524.0|     28381.0|   11143.0|\n",
            "|   Samsung|Galaxy Z Flip SM-...|   35015.0|     24588.0|   10427.0|\n",
            "|     Apple|iPhone 11 Pro Max...|   38447.0|     28050.0|   10397.0|\n",
            "|   Samsung|Galaxy Fold 12/25...|   55338.0|     45799.0|    9539.0|\n",
            "|     Apple|iPhone 7 Plus 256...|   16392.0|      7447.0|    8945.0|\n",
            "+----------+--------------------+----------+------------+----------+\n",
            "only showing top 5 rows\n",
            "\n"
          ]
        },
        {
          "output_type": "display_data",
          "data": {
            "text/plain": [
              "None"
            ]
          },
          "metadata": {}
        }
      ]
    },
    {
      "cell_type": "code",
      "source": [
        "#Relación batería por pulgada de pantalla\n",
        "consulta_relacion_pantalla = df.withColumn(\"relacion_pantalla\", col(\"battery_size\") / col(\"screen_size\")) \\\n",
        "                               .select(\"brand_name\", \"model_name\", \"battery_size\", \"screen_size\", \"relacion_pantalla\") \\\n",
        "                               .orderBy(col(\"relacion_pantalla\").desc())\n",
        "\n",
        "display(consulta_relacion_pantalla.show(5))\n"
      ],
      "metadata": {
        "colab": {
          "base_uri": "https://localhost:8080/",
          "height": 225
        },
        "id": "hjKdA791Wi_o",
        "outputId": "6514823c-653c-46e2-86b9-472063c7bdc1"
      },
      "execution_count": 17,
      "outputs": [
        {
          "output_type": "stream",
          "name": "stdout",
          "text": [
            "+------------+--------------------+------------+-----------+------------------+\n",
            "|  brand_name|          model_name|battery_size|screen_size| relacion_pantalla|\n",
            "+------------+--------------------+------------+-----------+------------------+\n",
            "|        Land|Rover Tank T3 KUH...|     15800.0|        2.4| 6583.333333333334|\n",
            "|       MAFAM|           SUN6 Blue|     18800.0|        3.0| 6266.666666666667|\n",
            "|      Rezone|    A281 Force Black|      6000.0|        2.8| 2142.857142857143|\n",
            "|   Blackview| BV9100 4/64GB Black|     13000.0|        6.3|2063.4920634920636|\n",
            "|Sigma mobile|X-treme DZ68 Blac...|      4500.0|        2.4|            1875.0|\n",
            "+------------+--------------------+------------+-----------+------------------+\n",
            "only showing top 5 rows\n",
            "\n"
          ]
        },
        {
          "output_type": "display_data",
          "data": {
            "text/plain": [
              "None"
            ]
          },
          "metadata": {}
        }
      ]
    },
    {
      "cell_type": "code",
      "source": [
        "#Rellenar valores nulos de memory_size con la mediana\n",
        "mediana_memory_size = df.approxQuantile(\"memory_size\", [0.5], 0)[0]\n",
        "df = df.withColumn(\"memory_size\", when(col(\"memory_size\").isNull(), mediana_memory_size).otherwise(col(\"memory_size\")))\n",
        "display(df.show(5))"
      ],
      "metadata": {
        "colab": {
          "base_uri": "https://localhost:8080/",
          "height": 225
        },
        "id": "VuTHE-jmXN-m",
        "outputId": "47424ded-74ce-4c41-e665-827be28e794a"
      },
      "execution_count": 18,
      "outputs": [
        {
          "output_type": "stream",
          "name": "stdout",
          "text": [
            "+---+----------+--------------------+-------+----------+----------+------------+-------------+--------------+-----------+-----------+------------+------------+\n",
            "|_c0|brand_name|          model_name|     os|popularity|best_price|lowest_price|highest_price|sellers_amount|screen_size|memory_size|battery_size|release_date|\n",
            "+---+----------+--------------------+-------+----------+----------+------------+-------------+--------------+-----------+-----------+------------+------------+\n",
            "|  0|   ALCATEL|1 1/8GB Bluish Bl...|Android|       422|    1690.0|      1529.0|       1819.0|            36|        5.0|        8.0|      2000.0|     10-2020|\n",
            "|  1|   ALCATEL|1 5033D 1/16GB Vo...|Android|       323|    1803.0|      1659.0|       2489.0|            36|        5.0|       16.0|      2000.0|      9-2020|\n",
            "|  2|   ALCATEL|1 5033D 1/16GB Vo...|Android|       299|    1803.0|      1659.0|       2489.0|            36|        5.0|       16.0|      2000.0|      9-2020|\n",
            "|  3|   ALCATEL|1 5033D 1/16GB Vo...|Android|       287|    1803.0|      1659.0|       2489.0|            36|        5.0|       16.0|      2000.0|      9-2020|\n",
            "|  4|     Nokia| 1.3 1/16GB Charcoal|Android|      1047|    1999.0|        NULL|         NULL|            10|       5.71|       16.0|      3000.0|      4-2020|\n",
            "+---+----------+--------------------+-------+----------+----------+------------+-------------+--------------+-----------+-----------+------------+------------+\n",
            "only showing top 5 rows\n",
            "\n"
          ]
        },
        {
          "output_type": "display_data",
          "data": {
            "text/plain": [
              "None"
            ]
          },
          "metadata": {}
        }
      ]
    },
    {
      "cell_type": "markdown",
      "source": [
        "Grafo con GraphFrames"
      ],
      "metadata": {
        "id": "sk6YY-nHY5mr"
      }
    },
    {
      "cell_type": "code",
      "source": [
        "pip install graphframes"
      ],
      "metadata": {
        "id": "PSC-KcAeaWZt",
        "colab": {
          "base_uri": "https://localhost:8080/"
        },
        "outputId": "e1d0eb34-0c18-4bc8-d978-4568b55218c8"
      },
      "execution_count": 19,
      "outputs": [
        {
          "output_type": "stream",
          "name": "stdout",
          "text": [
            "Collecting graphframes\n",
            "  Downloading graphframes-0.6-py2.py3-none-any.whl.metadata (934 bytes)\n",
            "Requirement already satisfied: numpy in /usr/local/lib/python3.11/dist-packages (from graphframes) (2.0.2)\n",
            "Collecting nose (from graphframes)\n",
            "  Downloading nose-1.3.7-py3-none-any.whl.metadata (1.7 kB)\n",
            "Downloading graphframes-0.6-py2.py3-none-any.whl (18 kB)\n",
            "Downloading nose-1.3.7-py3-none-any.whl (154 kB)\n",
            "\u001b[2K   \u001b[90m━━━━━━━━━━━━━━━━━━━━━━━━━━━━━━━━━━━━━━━━\u001b[0m \u001b[32m154.7/154.7 kB\u001b[0m \u001b[31m5.1 MB/s\u001b[0m eta \u001b[36m0:00:00\u001b[0m\n",
            "\u001b[?25hInstalling collected packages: nose, graphframes\n",
            "Successfully installed graphframes-0.6 nose-1.3.7\n"
          ]
        }
      ]
    },
    {
      "cell_type": "code",
      "source": [
        "from pyspark.sql import SparkSession\n",
        "\n",
        "spark = SparkSession.builder \\\n",
        "    .appName(\"GraphFramesExample\") \\\n",
        "    .config(\"spark.jars.packages\", \"graphframes:graphframes:0.8.2-spark3.3-s_2.12\") \\\n",
        "    .getOrCreate()"
      ],
      "metadata": {
        "id": "7_nEMgqUaYJ6"
      },
      "execution_count": 20,
      "outputs": []
    },
    {
      "cell_type": "code",
      "metadata": {
        "id": "58e56c2f",
        "colab": {
          "base_uri": "https://localhost:8080/",
          "height": 669
        },
        "outputId": "92cb4244-824c-4e16-cde3-858caad1e288"
      },
      "source": [
        "from pyspark.sql import SparkSession\n",
        "from pyspark.sql.functions import col\n",
        "from graphframes import GraphFrame\n",
        "\n",
        "# Create SparkSession with GraphFrames package\n",
        "spark = SparkSession.builder \\\n",
        "    .appName(\"GraphFramesExample\") \\\n",
        "    .config(\"spark.jars.packages\", \"graphframes:graphframes:0.8.2-spark3.0-s_2.12\") \\\n",
        "    .getOrCreate()\n",
        "\n",
        "vertices = df.select(col(\"brand_name\").alias(\"id\"), col(\"model_name\").alias(\"name\"))\n",
        "edges = df.select(col(\"brand_name\").alias(\"src\"), col(\"model_name\").alias(\"dst\"))\n",
        "\n",
        "grafo = GraphFrame(vertices, edges)\n",
        "\n",
        "in_degrees = grafo.inDegrees\n",
        "triangulos = grafo.triangleCount()\n",
        "caminos = grafo.find(\"(a)-[e]->(b); (b)-[e2]->(c)\")\n",
        "\n",
        "display(in_degrees.show())\n",
        "display(triangulos.show())\n",
        "display(caminos.show())"
      ],
      "execution_count": 21,
      "outputs": [
        {
          "output_type": "stream",
          "name": "stderr",
          "text": [
            "/usr/local/lib/python3.11/dist-packages/pyspark/sql/dataframe.py:168: UserWarning: DataFrame.sql_ctx is an internal property, and will be removed in future releases. Use DataFrame.sparkSession instead.\n",
            "  warnings.warn(\n"
          ]
        },
        {
          "output_type": "error",
          "ename": "Py4JJavaError",
          "evalue": "An error occurred while calling o197.loadClass.\n: java.lang.ClassNotFoundException: org.graphframes.GraphFramePythonAPI\n\tat java.base/java.net.URLClassLoader.findClass(URLClassLoader.java:476)\n\tat java.base/java.lang.ClassLoader.loadClass(ClassLoader.java:594)\n\tat java.base/java.lang.ClassLoader.loadClass(ClassLoader.java:527)\n\tat java.base/jdk.internal.reflect.NativeMethodAccessorImpl.invoke0(Native Method)\n\tat java.base/jdk.internal.reflect.NativeMethodAccessorImpl.invoke(NativeMethodAccessorImpl.java:62)\n\tat java.base/jdk.internal.reflect.DelegatingMethodAccessorImpl.invoke(DelegatingMethodAccessorImpl.java:43)\n\tat java.base/java.lang.reflect.Method.invoke(Method.java:566)\n\tat py4j.reflection.MethodInvoker.invoke(MethodInvoker.java:244)\n\tat py4j.reflection.ReflectionEngine.invoke(ReflectionEngine.java:374)\n\tat py4j.Gateway.invoke(Gateway.java:282)\n\tat py4j.commands.AbstractCommand.invokeMethod(AbstractCommand.java:132)\n\tat py4j.commands.CallCommand.execute(CallCommand.java:79)\n\tat py4j.ClientServerConnection.waitForCommands(ClientServerConnection.java:182)\n\tat py4j.ClientServerConnection.run(ClientServerConnection.java:106)\n\tat java.base/java.lang.Thread.run(Thread.java:829)\n",
          "traceback": [
            "\u001b[0;31m---------------------------------------------------------------------------\u001b[0m",
            "\u001b[0;31mPy4JJavaError\u001b[0m                             Traceback (most recent call last)",
            "\u001b[0;32m/tmp/ipython-input-21-160193926.py\u001b[0m in \u001b[0;36m<cell line: 0>\u001b[0;34m()\u001b[0m\n\u001b[1;32m     12\u001b[0m \u001b[0medges\u001b[0m \u001b[0;34m=\u001b[0m \u001b[0mdf\u001b[0m\u001b[0;34m.\u001b[0m\u001b[0mselect\u001b[0m\u001b[0;34m(\u001b[0m\u001b[0mcol\u001b[0m\u001b[0;34m(\u001b[0m\u001b[0;34m\"brand_name\"\u001b[0m\u001b[0;34m)\u001b[0m\u001b[0;34m.\u001b[0m\u001b[0malias\u001b[0m\u001b[0;34m(\u001b[0m\u001b[0;34m\"src\"\u001b[0m\u001b[0;34m)\u001b[0m\u001b[0;34m,\u001b[0m \u001b[0mcol\u001b[0m\u001b[0;34m(\u001b[0m\u001b[0;34m\"model_name\"\u001b[0m\u001b[0;34m)\u001b[0m\u001b[0;34m.\u001b[0m\u001b[0malias\u001b[0m\u001b[0;34m(\u001b[0m\u001b[0;34m\"dst\"\u001b[0m\u001b[0;34m)\u001b[0m\u001b[0;34m)\u001b[0m\u001b[0;34m\u001b[0m\u001b[0;34m\u001b[0m\u001b[0m\n\u001b[1;32m     13\u001b[0m \u001b[0;34m\u001b[0m\u001b[0m\n\u001b[0;32m---> 14\u001b[0;31m \u001b[0mgrafo\u001b[0m \u001b[0;34m=\u001b[0m \u001b[0mGraphFrame\u001b[0m\u001b[0;34m(\u001b[0m\u001b[0mvertices\u001b[0m\u001b[0;34m,\u001b[0m \u001b[0medges\u001b[0m\u001b[0;34m)\u001b[0m\u001b[0;34m\u001b[0m\u001b[0;34m\u001b[0m\u001b[0m\n\u001b[0m\u001b[1;32m     15\u001b[0m \u001b[0;34m\u001b[0m\u001b[0m\n\u001b[1;32m     16\u001b[0m \u001b[0min_degrees\u001b[0m \u001b[0;34m=\u001b[0m \u001b[0mgrafo\u001b[0m\u001b[0;34m.\u001b[0m\u001b[0minDegrees\u001b[0m\u001b[0;34m\u001b[0m\u001b[0;34m\u001b[0m\u001b[0m\n",
            "\u001b[0;32m/usr/local/lib/python3.11/dist-packages/graphframes/graphframe.py\u001b[0m in \u001b[0;36m__init__\u001b[0;34m(self, v, e)\u001b[0m\n\u001b[1;32m     63\u001b[0m         \u001b[0mself\u001b[0m\u001b[0;34m.\u001b[0m\u001b[0m_sqlContext\u001b[0m \u001b[0;34m=\u001b[0m \u001b[0mv\u001b[0m\u001b[0;34m.\u001b[0m\u001b[0msql_ctx\u001b[0m\u001b[0;34m\u001b[0m\u001b[0;34m\u001b[0m\u001b[0m\n\u001b[1;32m     64\u001b[0m         \u001b[0mself\u001b[0m\u001b[0;34m.\u001b[0m\u001b[0m_sc\u001b[0m \u001b[0;34m=\u001b[0m \u001b[0mself\u001b[0m\u001b[0;34m.\u001b[0m\u001b[0m_sqlContext\u001b[0m\u001b[0;34m.\u001b[0m\u001b[0m_sc\u001b[0m\u001b[0;34m\u001b[0m\u001b[0;34m\u001b[0m\u001b[0m\n\u001b[0;32m---> 65\u001b[0;31m         \u001b[0mself\u001b[0m\u001b[0;34m.\u001b[0m\u001b[0m_jvm_gf_api\u001b[0m \u001b[0;34m=\u001b[0m \u001b[0m_java_api\u001b[0m\u001b[0;34m(\u001b[0m\u001b[0mself\u001b[0m\u001b[0;34m.\u001b[0m\u001b[0m_sc\u001b[0m\u001b[0;34m)\u001b[0m\u001b[0;34m\u001b[0m\u001b[0;34m\u001b[0m\u001b[0m\n\u001b[0m\u001b[1;32m     66\u001b[0m \u001b[0;34m\u001b[0m\u001b[0m\n\u001b[1;32m     67\u001b[0m         \u001b[0mself\u001b[0m\u001b[0;34m.\u001b[0m\u001b[0mID\u001b[0m \u001b[0;34m=\u001b[0m \u001b[0mself\u001b[0m\u001b[0;34m.\u001b[0m\u001b[0m_jvm_gf_api\u001b[0m\u001b[0;34m.\u001b[0m\u001b[0mID\u001b[0m\u001b[0;34m(\u001b[0m\u001b[0;34m)\u001b[0m\u001b[0;34m\u001b[0m\u001b[0;34m\u001b[0m\u001b[0m\n",
            "\u001b[0;32m/usr/local/lib/python3.11/dist-packages/graphframes/graphframe.py\u001b[0m in \u001b[0;36m_java_api\u001b[0;34m(jsc)\u001b[0m\n\u001b[1;32m     36\u001b[0m \u001b[0;32mdef\u001b[0m \u001b[0m_java_api\u001b[0m\u001b[0;34m(\u001b[0m\u001b[0mjsc\u001b[0m\u001b[0;34m)\u001b[0m\u001b[0;34m:\u001b[0m\u001b[0;34m\u001b[0m\u001b[0;34m\u001b[0m\u001b[0m\n\u001b[1;32m     37\u001b[0m     \u001b[0mjavaClassName\u001b[0m \u001b[0;34m=\u001b[0m \u001b[0;34m\"org.graphframes.GraphFramePythonAPI\"\u001b[0m\u001b[0;34m\u001b[0m\u001b[0;34m\u001b[0m\u001b[0m\n\u001b[0;32m---> 38\u001b[0;31m     \u001b[0;32mreturn\u001b[0m \u001b[0mjsc\u001b[0m\u001b[0;34m.\u001b[0m\u001b[0m_jvm\u001b[0m\u001b[0;34m.\u001b[0m\u001b[0mThread\u001b[0m\u001b[0;34m.\u001b[0m\u001b[0mcurrentThread\u001b[0m\u001b[0;34m(\u001b[0m\u001b[0;34m)\u001b[0m\u001b[0;34m.\u001b[0m\u001b[0mgetContextClassLoader\u001b[0m\u001b[0;34m(\u001b[0m\u001b[0;34m)\u001b[0m\u001b[0;34m.\u001b[0m\u001b[0mloadClass\u001b[0m\u001b[0;34m(\u001b[0m\u001b[0mjavaClassName\u001b[0m\u001b[0;34m)\u001b[0m\u001b[0;31m \u001b[0m\u001b[0;31m\\\u001b[0m\u001b[0;34m\u001b[0m\u001b[0;34m\u001b[0m\u001b[0m\n\u001b[0m\u001b[1;32m     39\u001b[0m             \u001b[0;34m.\u001b[0m\u001b[0mnewInstance\u001b[0m\u001b[0;34m(\u001b[0m\u001b[0;34m)\u001b[0m\u001b[0;34m\u001b[0m\u001b[0;34m\u001b[0m\u001b[0m\n\u001b[1;32m     40\u001b[0m \u001b[0;34m\u001b[0m\u001b[0m\n",
            "\u001b[0;32m/usr/local/lib/python3.11/dist-packages/py4j/java_gateway.py\u001b[0m in \u001b[0;36m__call__\u001b[0;34m(self, *args)\u001b[0m\n\u001b[1;32m   1320\u001b[0m \u001b[0;34m\u001b[0m\u001b[0m\n\u001b[1;32m   1321\u001b[0m         \u001b[0manswer\u001b[0m \u001b[0;34m=\u001b[0m \u001b[0mself\u001b[0m\u001b[0;34m.\u001b[0m\u001b[0mgateway_client\u001b[0m\u001b[0;34m.\u001b[0m\u001b[0msend_command\u001b[0m\u001b[0;34m(\u001b[0m\u001b[0mcommand\u001b[0m\u001b[0;34m)\u001b[0m\u001b[0;34m\u001b[0m\u001b[0;34m\u001b[0m\u001b[0m\n\u001b[0;32m-> 1322\u001b[0;31m         return_value = get_return_value(\n\u001b[0m\u001b[1;32m   1323\u001b[0m             answer, self.gateway_client, self.target_id, self.name)\n\u001b[1;32m   1324\u001b[0m \u001b[0;34m\u001b[0m\u001b[0m\n",
            "\u001b[0;32m/usr/local/lib/python3.11/dist-packages/pyspark/errors/exceptions/captured.py\u001b[0m in \u001b[0;36mdeco\u001b[0;34m(*a, **kw)\u001b[0m\n\u001b[1;32m    177\u001b[0m     \u001b[0;32mdef\u001b[0m \u001b[0mdeco\u001b[0m\u001b[0;34m(\u001b[0m\u001b[0;34m*\u001b[0m\u001b[0ma\u001b[0m\u001b[0;34m:\u001b[0m \u001b[0mAny\u001b[0m\u001b[0;34m,\u001b[0m \u001b[0;34m**\u001b[0m\u001b[0mkw\u001b[0m\u001b[0;34m:\u001b[0m \u001b[0mAny\u001b[0m\u001b[0;34m)\u001b[0m \u001b[0;34m->\u001b[0m \u001b[0mAny\u001b[0m\u001b[0;34m:\u001b[0m\u001b[0;34m\u001b[0m\u001b[0;34m\u001b[0m\u001b[0m\n\u001b[1;32m    178\u001b[0m         \u001b[0;32mtry\u001b[0m\u001b[0;34m:\u001b[0m\u001b[0;34m\u001b[0m\u001b[0;34m\u001b[0m\u001b[0m\n\u001b[0;32m--> 179\u001b[0;31m             \u001b[0;32mreturn\u001b[0m \u001b[0mf\u001b[0m\u001b[0;34m(\u001b[0m\u001b[0;34m*\u001b[0m\u001b[0ma\u001b[0m\u001b[0;34m,\u001b[0m \u001b[0;34m**\u001b[0m\u001b[0mkw\u001b[0m\u001b[0;34m)\u001b[0m\u001b[0;34m\u001b[0m\u001b[0;34m\u001b[0m\u001b[0m\n\u001b[0m\u001b[1;32m    180\u001b[0m         \u001b[0;32mexcept\u001b[0m \u001b[0mPy4JJavaError\u001b[0m \u001b[0;32mas\u001b[0m \u001b[0me\u001b[0m\u001b[0;34m:\u001b[0m\u001b[0;34m\u001b[0m\u001b[0;34m\u001b[0m\u001b[0m\n\u001b[1;32m    181\u001b[0m             \u001b[0mconverted\u001b[0m \u001b[0;34m=\u001b[0m \u001b[0mconvert_exception\u001b[0m\u001b[0;34m(\u001b[0m\u001b[0me\u001b[0m\u001b[0;34m.\u001b[0m\u001b[0mjava_exception\u001b[0m\u001b[0;34m)\u001b[0m\u001b[0;34m\u001b[0m\u001b[0;34m\u001b[0m\u001b[0m\n",
            "\u001b[0;32m/usr/local/lib/python3.11/dist-packages/py4j/protocol.py\u001b[0m in \u001b[0;36mget_return_value\u001b[0;34m(answer, gateway_client, target_id, name)\u001b[0m\n\u001b[1;32m    324\u001b[0m             \u001b[0mvalue\u001b[0m \u001b[0;34m=\u001b[0m \u001b[0mOUTPUT_CONVERTER\u001b[0m\u001b[0;34m[\u001b[0m\u001b[0mtype\u001b[0m\u001b[0;34m]\u001b[0m\u001b[0;34m(\u001b[0m\u001b[0manswer\u001b[0m\u001b[0;34m[\u001b[0m\u001b[0;36m2\u001b[0m\u001b[0;34m:\u001b[0m\u001b[0;34m]\u001b[0m\u001b[0;34m,\u001b[0m \u001b[0mgateway_client\u001b[0m\u001b[0;34m)\u001b[0m\u001b[0;34m\u001b[0m\u001b[0;34m\u001b[0m\u001b[0m\n\u001b[1;32m    325\u001b[0m             \u001b[0;32mif\u001b[0m \u001b[0manswer\u001b[0m\u001b[0;34m[\u001b[0m\u001b[0;36m1\u001b[0m\u001b[0;34m]\u001b[0m \u001b[0;34m==\u001b[0m \u001b[0mREFERENCE_TYPE\u001b[0m\u001b[0;34m:\u001b[0m\u001b[0;34m\u001b[0m\u001b[0;34m\u001b[0m\u001b[0m\n\u001b[0;32m--> 326\u001b[0;31m                 raise Py4JJavaError(\n\u001b[0m\u001b[1;32m    327\u001b[0m                     \u001b[0;34m\"An error occurred while calling {0}{1}{2}.\\n\"\u001b[0m\u001b[0;34m.\u001b[0m\u001b[0;34m\u001b[0m\u001b[0;34m\u001b[0m\u001b[0m\n\u001b[1;32m    328\u001b[0m                     format(target_id, \".\", name), value)\n",
            "\u001b[0;31mPy4JJavaError\u001b[0m: An error occurred while calling o197.loadClass.\n: java.lang.ClassNotFoundException: org.graphframes.GraphFramePythonAPI\n\tat java.base/java.net.URLClassLoader.findClass(URLClassLoader.java:476)\n\tat java.base/java.lang.ClassLoader.loadClass(ClassLoader.java:594)\n\tat java.base/java.lang.ClassLoader.loadClass(ClassLoader.java:527)\n\tat java.base/jdk.internal.reflect.NativeMethodAccessorImpl.invoke0(Native Method)\n\tat java.base/jdk.internal.reflect.NativeMethodAccessorImpl.invoke(NativeMethodAccessorImpl.java:62)\n\tat java.base/jdk.internal.reflect.DelegatingMethodAccessorImpl.invoke(DelegatingMethodAccessorImpl.java:43)\n\tat java.base/java.lang.reflect.Method.invoke(Method.java:566)\n\tat py4j.reflection.MethodInvoker.invoke(MethodInvoker.java:244)\n\tat py4j.reflection.ReflectionEngine.invoke(ReflectionEngine.java:374)\n\tat py4j.Gateway.invoke(Gateway.java:282)\n\tat py4j.commands.AbstractCommand.invokeMethod(AbstractCommand.java:132)\n\tat py4j.commands.CallCommand.execute(CallCommand.java:79)\n\tat py4j.ClientServerConnection.waitForCommands(ClientServerConnection.java:182)\n\tat py4j.ClientServerConnection.run(ClientServerConnection.java:106)\n\tat java.base/java.lang.Thread.run(Thread.java:829)\n"
          ]
        }
      ]
    },
    {
      "cell_type": "code",
      "source": [
        "!apt-get install openjdk-11-jdk-headless -qq > /dev/null\n",
        "!wget -q https://downloads.apache.org/spark/spark-3.3.0/spark-3.3.0-bin-hadoop3.tgz\n",
        "!tar xf spark-3.3.0-bin-hadoop3.tgz\n",
        "!pip install -q findspark\n",
        "!pip install -q graphframes\n"
      ],
      "metadata": {
        "id": "2WRYJ9-J9-3C"
      },
      "execution_count": null,
      "outputs": []
    },
    {
      "cell_type": "code",
      "source": [
        "import os\n",
        "\n",
        "os.environ[\"JAVA_HOME\"] = \"/usr/lib/jvm/java-11-openjdk-amd64\"\n",
        "os.environ[\"SPARK_HOME\"] = \"/content/spark-3.3.0-bin-hadoop3\""
      ],
      "metadata": {
        "id": "W_lKrhQr-Nzr"
      },
      "execution_count": null,
      "outputs": []
    },
    {
      "cell_type": "code",
      "source": [
        "import findspark\n",
        "findspark.init()\n",
        "\n",
        "from pyspark.sql import SparkSession\n",
        "\n",
        "spark = SparkSession.builder \\\n",
        "    .appName(\"GraphFrames in Colab\") \\\n",
        "    .config(\"spark.jars.packages\", \"graphframes:graphframes:0.8.2-spark3.3-s_2.12\") \\\n",
        "    .getOrCreate()\n"
      ],
      "metadata": {
        "id": "JnHUcc8--bu7"
      },
      "execution_count": null,
      "outputs": []
    },
    {
      "cell_type": "code",
      "source": [
        "from graphframes import GraphFrame"
      ],
      "metadata": {
        "id": "LGbm8AeC-mpk"
      },
      "execution_count": null,
      "outputs": []
    },
    {
      "cell_type": "code",
      "source": [
        "from pyspark.sql import SparkSession\n",
        "from pyspark.sql.functions import col\n",
        "from graphframes import GraphFrame\n",
        "\n",
        "try:\n",
        "    spark\n",
        "except NameError:\n",
        "    spark = SparkSession.builder \\\n",
        "        .appName(\"GraphFrames in Colab\") \\\n",
        "        .config(\"spark.jars.packages\", \"graphframes:graphframes:0.8.2-spark3.3-s_2.12\") \\\n",
        "        .getOrCreate()\n",
        "\n",
        "\n",
        "# Crear vértices: nodos únicos por modelo\n",
        "vertices = df.select(\n",
        "    col(\"model_name\").alias(\"id\"),\n",
        "    col(\"brand_name\"),\n",
        "    col(\"os\"),\n",
        "    col(\"release_date\")\n",
        ").dropDuplicates([\"id\"])\n",
        "\n",
        "# Crear aristas: modelos distintos lanzados en la misma fecha\n",
        "edges = df.alias(\"a\").join(df.alias(\"b\"),\n",
        "    (col(\"a.release_date\") == col(\"b.release_date\")) &\n",
        "    (col(\"a.model_name\") != col(\"b.model_name\"))\n",
        ").select(\n",
        "    col(\"a.model_name\").alias(\"src\"),\n",
        "    col(\"b.model_name\").alias(\"dst\"),\n",
        "    col(\"a.release_date\")\n",
        ").dropDuplicates([\"src\", \"dst\"])\n",
        "\n",
        "g = GraphFrame(vertices, edges)\n",
        "\n",
        "# Operaciones de grafo\n",
        "print(\"Grado de entrada (inDegrees):\")\n",
        "g.inDegrees.show()\n",
        "\n",
        "print(\"Conteo de triángulos (triangleCount):\")\n",
        "g.triangleCount().show()\n",
        "\n",
        "print(\"Caminos de 2 saltos (find):\")\n",
        "g.find(\"(a)-[e]->(b); (b)-[e2]->(c)\").show()"
      ],
      "metadata": {
        "id": "b-dHc__F9pc7"
      },
      "execution_count": null,
      "outputs": []
    },
    {
      "cell_type": "markdown",
      "source": [
        "# Sprint 3"
      ],
      "metadata": {
        "id": "rgL3SFBNz67v"
      }
    },
    {
      "cell_type": "markdown",
      "source": [
        "**En este sprint, os sumergiréis en el mundo del machine learning y el procesamiento en tiempo real utilizando MLlib y Spark Streaming en Apache Spark.**\n",
        "\n",
        "\n",
        "\n",
        "1. Empezad entrenando un modelo de regresión logística o clasificación utilizando MLlib con un conjunto de datos relacionados con eventos sísmicos obtenidos de fuentes como Kaggle o generados por una IA.\n",
        "\n",
        "2. Luego, evaluad el modelo utilizando métricas como precisión, recall y F1 score para medir su rendimiento.\n",
        "\n",
        "3. A continuación, configurad un pipeline de streaming para leer datos en tiempo real desde una fuente simulada.\n",
        "\n",
        "4. Posteriormente, avanzad integrando el modelo entrenado en el pipeline para realizar predicciones en tiempo real sobre la probabilidad de ocurrencia de un posible seísmo en una zona concreta.\n",
        "\n",
        "5. Por último, de forma opcional podéis crear visualizaciones para monitorear las predicciones y datos en tiempo real."
      ],
      "metadata": {
        "id": "g3kxAhs46C-v"
      }
    },
    {
      "cell_type": "markdown",
      "source": [
        "Importar desde kaggle"
      ],
      "metadata": {
        "id": "KasshCc4J5pX"
      }
    },
    {
      "cell_type": "code",
      "source": [
        "from google.colab import files\n",
        "!pip install -q kaggle"
      ],
      "metadata": {
        "id": "mZQiqQ8cJ4fT"
      },
      "execution_count": null,
      "outputs": []
    },
    {
      "cell_type": "code",
      "source": [
        "uploaded = files.upload()"
      ],
      "metadata": {
        "id": "7YVG05BbKEdT"
      },
      "execution_count": null,
      "outputs": []
    },
    {
      "cell_type": "code",
      "source": [
        "!kaggle datasets download -d maykogob/terremotos"
      ],
      "metadata": {
        "id": "6UL91ggSJ9Os"
      },
      "execution_count": null,
      "outputs": []
    },
    {
      "cell_type": "code",
      "source": [
        "!unzip terremotos.zip"
      ],
      "metadata": {
        "id": "cKnvQ972J_JK"
      },
      "execution_count": null,
      "outputs": []
    },
    {
      "cell_type": "markdown",
      "source": [
        "** MLlib + Spark Streaming para predicción de seísmos**"
      ],
      "metadata": {
        "id": "Utgwyow27EgZ"
      }
    },
    {
      "cell_type": "code",
      "source": [
        "from pyspark.sql import SparkSession\n",
        "from pyspark.ml.classification import LogisticRegression\n",
        "from pyspark.ml.feature import VectorAssembler\n",
        "from pyspark.ml.evaluation import MulticlassClassificationEvaluator\n",
        "from pyspark.sql.functions import col\n",
        "from pyspark.ml import Pipeline\n",
        "from pyspark.streaming import StreamingContext\n",
        "from pyspark.sql.types import StructType, StructField, DoubleType, IntegerType"
      ],
      "metadata": {
        "id": "EbpySjGnONvt"
      },
      "execution_count": null,
      "outputs": []
    },
    {
      "cell_type": "code",
      "source": [
        "# Cargar el DataFrame y listar los primeros registros\n",
        "columnas = [\n",
        "    \"Fecha\", \"Tiempo\", \"Latitud\", \"Longitud\", \"Type\", \"Profundidad\",\n",
        "    \"Depth_Error\", \"Profundidad_Estaciones_Sismicas\", \"Magnitud\", \"Tipo_Magnitud\",\n",
        "    \"Magnitude_Error\", \"Magnitud_Estaciones_Sismicas\", \"Azimuthal_Gap\",\n",
        "    \"Distancia_Horizontal\", \"Horizontal_Error\", \"RMS\",\n",
        "    \"ID\", \"Source\", \"Ubicacion_Origen\", \"Magnitude_Source\", \"Status\"\n",
        "]\n",
        "\n",
        "df = spark.read.csv('terremotos.csv', header=False, sep=';', inferSchema=True)\n",
        "\n",
        "# Asignar nombres a las columnas\n",
        "df = df.toDF(*columnas)\n",
        "\n",
        "df.show(5)\n"
      ],
      "metadata": {
        "id": "zkoFGvwFQA52"
      },
      "execution_count": null,
      "outputs": []
    },
    {
      "cell_type": "markdown",
      "source": [
        "**1. Entrenamiento del modelo de clasificación con MLlib**"
      ],
      "metadata": {
        "id": "bGhWEwcv8kov"
      }
    },
    {
      "cell_type": "code",
      "source": [
        "# Crear columna de clasificación binaria: peligroso si magnitud >= 6.0\n",
        "df = df.withColumn(\"label\", (col(\"Magnitud\") >= 6.0).cast(\"integer\"))"
      ],
      "metadata": {
        "id": "fGqCKGVK7xSt"
      },
      "execution_count": null,
      "outputs": []
    },
    {
      "cell_type": "code",
      "source": [
        "from pyspark.ml.feature import VectorAssembler\n",
        "from pyspark.sql.functions import col\n",
        "\n",
        "# Selección de columnas numéricas\n",
        "feature_cols = [\"Latitud\", \"Longitud\", \"Profundidad\", \"Magnitud\", \"Azimuthal_Gap\", \"RMS\"]\n",
        "\n",
        "df = df.fillna(0, subset=feature_cols)"
      ],
      "metadata": {
        "id": "Rzi9mTjR7zn0"
      },
      "execution_count": null,
      "outputs": []
    },
    {
      "cell_type": "markdown",
      "source": [
        "Vector Assembler"
      ],
      "metadata": {
        "id": "2hq0PnC71kQz"
      }
    },
    {
      "cell_type": "code",
      "source": [
        "# Ensamblar en vector de características\n",
        "assembler = VectorAssembler(inputCols=feature_cols, outputCol=\"features\")\n",
        "df_ml = assembler.transform(df).select(\"features\", \"label\")\n",
        "df_ml.show(10)"
      ],
      "metadata": {
        "id": "9BMgQ1DADbQe"
      },
      "execution_count": null,
      "outputs": []
    },
    {
      "cell_type": "code",
      "source": [
        "train_data, test_data = df_ml.randomSplit([0.8, 0.2], seed=42)\n",
        "print(f\"Hay {train_data.cache().count()} filas en el conjunto de entrenamiento y {test_data.cache().count()} en el conjunto de prueba.\")"
      ],
      "metadata": {
        "id": "IvkDM88-72QF"
      },
      "execution_count": null,
      "outputs": []
    },
    {
      "cell_type": "markdown",
      "source": [
        "Regresion Lineal"
      ],
      "metadata": {
        "id": "DV99nIw51rVz"
      }
    },
    {
      "cell_type": "code",
      "source": [
        "lr = LogisticRegression(featuresCol=\"features\", labelCol=\"label\")\n",
        "model = lr.fit(train_data)"
      ],
      "metadata": {
        "id": "WxeARsc79Mp_"
      },
      "execution_count": null,
      "outputs": []
    },
    {
      "cell_type": "markdown",
      "source": [
        "**2. Evaluación del modelo**"
      ],
      "metadata": {
        "id": "gKOr4d_q9PUv"
      }
    },
    {
      "cell_type": "code",
      "source": [
        "predictions = model.transform(test_data)\n",
        "predictions.show(5)"
      ],
      "metadata": {
        "id": "N3ksm6vg9RyZ"
      },
      "execution_count": null,
      "outputs": []
    },
    {
      "cell_type": "code",
      "source": [
        "from pyspark.ml.evaluation import BinaryClassificationEvaluator, MulticlassClassificationEvaluator\n",
        "\n",
        "# Evaluador binario para AUC y ROC\n",
        "binary_evaluator = BinaryClassificationEvaluator(labelCol=\"label\", rawPredictionCol=\"rawPrediction\", metricName=\"areaUnderROC\")\n",
        "\n",
        "# Evaluadores múltiples para métricas estándar\n",
        "precision_evaluator = MulticlassClassificationEvaluator(labelCol=\"label\", predictionCol=\"prediction\", metricName=\"precisionByLabel\")\n",
        "recall_evaluator = MulticlassClassificationEvaluator(labelCol=\"label\", predictionCol=\"prediction\", metricName=\"recallByLabel\")\n",
        "f1_evaluator = MulticlassClassificationEvaluator(labelCol=\"label\", predictionCol=\"prediction\", metricName=\"f1\")\n",
        "accuracy_evaluator = MulticlassClassificationEvaluator(labelCol=\"label\", predictionCol=\"prediction\", metricName=\"accuracy\")\n",
        "\n",
        "# Calcular métricas\n",
        "precision = precision_evaluator.evaluate(predictions)\n",
        "recall = recall_evaluator.evaluate(predictions)\n",
        "f1 = f1_evaluator.evaluate(predictions)\n",
        "accuracy = accuracy_evaluator.evaluate(predictions)\n",
        "auc = binary_evaluator.evaluate(predictions)\n",
        "\n",
        "print(f\" Precisión: {precision:.4f}\")\n",
        "print(f\" Recall: {recall:.4f}\")\n",
        "print(f\" F1 Score: {f1:.4f}\")\n",
        "print(f\" Accuracy: {accuracy:.4f}\")\n",
        "print(f\" Área bajo la curva (AUC - ROC): {auc:.4f}\")\n"
      ],
      "metadata": {
        "id": "GTnvuz-19VCQ"
      },
      "execution_count": null,
      "outputs": []
    },
    {
      "cell_type": "markdown",
      "source": [
        "Dibujar la Curva ROC en Matplotlib"
      ],
      "metadata": {
        "id": "_2T-YeQzBtVe"
      }
    },
    {
      "cell_type": "code",
      "source": [
        "import pandas as pd\n",
        "from sklearn.metrics import roc_curve, auc\n",
        "import matplotlib.pyplot as plt\n",
        "\n",
        "# Convertir los resultados de predicción a Pandas DataFrame\n",
        "preds_pd = predictions.select(\"label\", \"probability\").toPandas()\n",
        "\n",
        "# Extraer la probabilidad de la clase 1 (probability es un DenseVector)\n",
        "y_true = preds_pd[\"label\"]\n",
        "y_scores = preds_pd[\"probability\"].apply(lambda x: float(x[1]))\n",
        "\n",
        "# Calcular puntos para la curva ROC\n",
        "fpr, tpr, thresholds = roc_curve(y_true, y_scores)\n",
        "roc_auc = auc(fpr, tpr)\n",
        "\n",
        "# Dibujar curva ROC\n",
        "plt.figure(figsize=(8, 6))\n",
        "plt.plot(fpr, tpr, color='darkorange', lw=2, label=f'Curva ROC (AUC = {roc_auc:.2f})')\n",
        "plt.plot([0, 1], [0, 1], color='navy', lw=2, linestyle='--')\n",
        "plt.xlim([0.0, 1.0])\n",
        "plt.ylim([0.0, 1.05])\n",
        "plt.xlabel('Tasa de Falsos Positivos')\n",
        "plt.ylabel('Tasa de Verdaderos Positivos')\n",
        "plt.title('Curva ROC del Modelo de Clasificación')\n",
        "plt.legend(loc=\"lower right\")\n",
        "plt.grid(True)\n",
        "plt.show()\n"
      ],
      "metadata": {
        "id": "kuFYQ446BuzQ"
      },
      "execution_count": null,
      "outputs": []
    },
    {
      "cell_type": "markdown",
      "source": [
        "**3. Configuración de Spark Streaming**"
      ],
      "metadata": {
        "id": "mMNt1fAP9gKQ"
      }
    },
    {
      "cell_type": "markdown",
      "source": [
        "** Crear Spark Session y contexto de streaming**"
      ],
      "metadata": {
        "id": "VCVSISx07K63"
      }
    },
    {
      "cell_type": "code",
      "source": [
        "spark = SparkSession.builder \\\n",
        "    .appName(\"SeismicPredictionPipeline\") \\\n",
        "    .config(\"spark.jars.packages\", \"org.apache.spark:spark-streaming_2.12:3.3.0\") \\\n",
        "    .getOrCreate()\n",
        "\n",
        "sc = spark.sparkContext\n",
        "ssc = StreamingContext(sc, batchDuration=5)"
      ],
      "metadata": {
        "id": "anbx7ACB7fAt"
      },
      "execution_count": null,
      "outputs": []
    },
    {
      "cell_type": "code",
      "source": [
        "from pyspark.streaming import StreamingContext\n",
        "\n",
        "# Reutilizamos el SparkContext de SparkSession\n",
        "ssc = StreamingContext(spark.sparkContext, 5)  # batch interval de 5 segundos\n"
      ],
      "metadata": {
        "id": "_rr8sk9J9jH1"
      },
      "execution_count": null,
      "outputs": []
    },
    {
      "cell_type": "code",
      "source": [
        "# Crear un DStream leyendo líneas nuevas de un archivo\n",
        "lines = ssc.textFileStream(\"file:///path/a/tu/stream_terremotos.txt\")\n"
      ],
      "metadata": {
        "id": "fpO7RDoH9lbx"
      },
      "execution_count": null,
      "outputs": []
    },
    {
      "cell_type": "markdown",
      "source": [
        "**4. Integración del modelo para predicción en tiempo real**"
      ],
      "metadata": {
        "id": "Cq9ktSBg9pIX"
      }
    },
    {
      "cell_type": "code",
      "source": [
        "from pyspark.ml.linalg import Vectors\n",
        "\n",
        "def parse_line(line):\n",
        "    try:\n",
        "        parts = line.split(\";\")\n",
        "        features = Vectors.dense([float(parts[i]) for i in [2, 3, 5, 8, 12, 15]])\n",
        "        return (features,)\n",
        "    except:\n",
        "        return None\n",
        "\n",
        "def predict_batch(rdd):\n",
        "    if not rdd.isEmpty():\n",
        "        df_stream = spark.createDataFrame(rdd.map(lambda x: (x[0],)), [\"features\"])\n",
        "        preds = model.transform(df_stream)\n",
        "        preds.select(\"features\", \"prediction\").show()\n",
        "\n",
        "lines.map(parse_line).filter(lambda x: x is not None).foreachRDD(predict_batch)\n"
      ],
      "metadata": {
        "id": "h6HE_qxl9rvt"
      },
      "execution_count": null,
      "outputs": []
    },
    {
      "cell_type": "code",
      "source": [
        "ssc.start()\n",
        "ssc.awaitTerminationOrTimeout(60)  # Ejecuta por 60 segundos\n",
        "ssc.stop(stopSparkContext=False)\n"
      ],
      "metadata": {
        "id": "jLntt2jQ9tAP"
      },
      "execution_count": null,
      "outputs": []
    },
    {
      "cell_type": "markdown",
      "source": [
        "**5. Visualización opcional de resultados**"
      ],
      "metadata": {
        "id": "wHFDCAkm9w8O"
      }
    },
    {
      "cell_type": "code",
      "source": [
        "from pyspark.sql.functions import col, udf\n",
        "from pyspark.sql.types import StringType\n",
        "\n",
        "vector_to_string_udf = udf(lambda vector: str(vector.toArray().tolist()), StringType())\n",
        "predictions_with_string_features = predictions.withColumn(\"features_str\", vector_to_string_udf(col(\"features\"))).drop(\"features\")\n",
        "\n",
        "predictions_with_string_features.select(\"features_str\", \"prediction\").write.mode(\"overwrite\").csv(\"resultados_prediccion\")"
      ],
      "metadata": {
        "id": "sXRq2c4O91PH"
      },
      "execution_count": null,
      "outputs": []
    },
    {
      "cell_type": "code",
      "source": [
        "import pandas as pd\n",
        "import matplotlib.pyplot as plt\n",
        "import ast\n",
        "import os\n",
        "\n",
        "# Ruta al directorio de salida generado\n",
        "csv_dir = \"resultados_prediccion\"\n",
        "\n",
        "# Leer todos los archivos CSV (Spark genera múltiples archivos por partición)\n",
        "dataframes = []\n",
        "for file in os.listdir(csv_dir):\n",
        "    if file.endswith(\".csv\"):\n",
        "        df = pd.read_csv(os.path.join(csv_dir, file), header=None, names=[\"features\", \"prediction\"])\n",
        "        dataframes.append(df)\n",
        "\n",
        "# Unir todos los fragmentos en un solo DataFrame\n",
        "resultados_df = pd.concat(dataframes, ignore_index=True)\n",
        "\n",
        "# Convertir la columna de texto 'features' a listas de valores\n",
        "resultados_df['features'] = resultados_df['features'].apply(ast.literal_eval)\n",
        "\n",
        "# Convertir la lista de features en columnas separadas\n",
        "features_expanded = pd.DataFrame(resultados_df['features'].tolist(), columns=[\"Latitud\", \"Longitud\", \"Profundidad\", \"Magnitud\", \"Azimuthal_Gap\", \"RMS\"])\n",
        "resultados_df = pd.concat([features_expanded, resultados_df['prediction']], axis=1)\n",
        "\n",
        "# Visualizar la distribución de predicciones\n",
        "plt.figure(figsize=(8, 5))\n",
        "plt.hist(resultados_df[\"prediction\"], bins=3, color='skyblue', edgecolor='black')\n",
        "plt.title(\"Distribución de Predicciones\")\n",
        "plt.xlabel(\"Clase Predicha\")\n",
        "plt.ylabel(\"Frecuencia\")\n",
        "plt.grid(True)\n",
        "plt.show()\n"
      ],
      "metadata": {
        "id": "-bO76MSL-Y0A"
      },
      "execution_count": null,
      "outputs": []
    },
    {
      "cell_type": "markdown",
      "source": [
        "# Proyecto Final Pascal"
      ],
      "metadata": {
        "id": "7Nyi73WTbVka"
      }
    },
    {
      "cell_type": "markdown",
      "source": [
        "**# Proyecto Final Pascal - Fases 1 a 5**\n"
      ],
      "metadata": {
        "id": "dklnqUHxb_n3"
      }
    },
    {
      "cell_type": "code",
      "source": [
        "# 1. Librerías y configuración\n",
        "import os\n",
        "import random\n",
        "import shutil\n",
        "import time\n",
        "import pandas as pd\n",
        "from pyspark.sql import SparkSession\n",
        "from pyspark.sql.types import StructType, StructField, DoubleType, IntegerType\n",
        "from pyspark.ml.feature import VectorAssembler\n",
        "from pyspark.ml.classification import LogisticRegression\n",
        "from pyspark.ml.evaluation import MulticlassClassificationEvaluator"
      ],
      "metadata": {
        "id": "QaQZydfwoH0J"
      },
      "execution_count": 219,
      "outputs": []
    },
    {
      "cell_type": "code",
      "source": [
        "# Crear SparkSession\n",
        "spark = SparkSession.builder \\\n",
        "    .appName(\"AirQualityStreaming\") \\\n",
        "    .getOrCreate()"
      ],
      "metadata": {
        "id": "wJEWHUpqoihZ"
      },
      "execution_count": 220,
      "outputs": []
    },
    {
      "cell_type": "markdown",
      "source": [
        "Fase 1: Preparación del modelo de ML de Regresión Logística (Adaptación para Calidad del Aire)\n"
      ],
      "metadata": {
        "id": "vr2QPkbucDzl"
      }
    },
    {
      "cell_type": "code",
      "execution_count": 221,
      "metadata": {
        "id": "qEyRtLTuacIE"
      },
      "outputs": [],
      "source": [
        "import pandas as pd\n",
        "from pyspark.sql import SparkSession\n",
        "from pyspark.sql.types import StructType, StructField, DoubleType, IntegerType\n",
        "from pyspark.ml.classification import LogisticRegression\n",
        "from pyspark.ml.feature import VectorAssembler\n",
        "from pyspark.sql.functions import col\n",
        "\n",
        "# Definir el esquema para los datos de calidad del aire\n",
        "schema_air = StructType([\n",
        "    StructField(\"CO2\", DoubleType()),\n",
        "    StructField(\"PM2_5\", DoubleType()),\n",
        "    StructField(\"Temperatura\", DoubleType()),\n",
        "    StructField(\"Humedad\", DoubleType()),\n",
        "    StructField(\"label\", IntegerType()) # 0 para buena calidad, 1 para mala calidad\n",
        "])\n",
        "\n",
        "# Generar datos ficticios para el entrenamiento (simulando buena y mala calidad)\n",
        "import random\n",
        "\n",
        "def generate_air_quality_data(num_records):\n",
        "    data = []\n",
        "    for _ in range(num_records):\n",
        "        # Simular datos para buena calidad (label 0)\n",
        "        if random.random() < 0.7: # 70% buena calidad\n",
        "            co2 = random.uniform(300, 600)\n",
        "            pm2_5 = random.uniform(5, 20)\n",
        "            temp = random.uniform(15, 25)\n",
        "            humidity = random.uniform(40, 60)\n",
        "            label = 0\n",
        "        # Simular datos para mala calidad (label 1)\n",
        "        else:\n",
        "            co2 = random.uniform(601, 1500)\n",
        "            pm2_5 = random.uniform(21, 70)\n",
        "            temp = random.uniform(20, 35)\n",
        "            humidity = random.uniform(50, 80)\n",
        "            label = 1\n",
        "        data.append((co2, pm2_5, temp, humidity, label))\n",
        "    return data"
      ]
    },
    {
      "cell_type": "code",
      "source": [
        "# Generar datos para entrenamiento\n",
        "training_data_list = generate_air_quality_data(1000)\n",
        "df_train_air = spark.createDataFrame(training_data_list, schema_air)\n"
      ],
      "metadata": {
        "id": "uLU0Fu3NpLff"
      },
      "execution_count": 222,
      "outputs": []
    },
    {
      "cell_type": "code",
      "source": [
        "# Ensamblar características\n",
        "feature_cols_air = [\"CO2\", \"PM2_5\", \"Temperatura\", \"Humedad\"]\n",
        "assembler_air = VectorAssembler(inputCols=feature_cols_air, outputCol=\"features\")\n",
        "df_train_air_ml = assembler_air.transform(df_train_air) # Keep original columns"
      ],
      "metadata": {
        "id": "vwtc47n2pOOZ"
      },
      "execution_count": 223,
      "outputs": []
    },
    {
      "cell_type": "code",
      "source": [
        "\n",
        "# Entrenar el modelo de Regresión Logística\n",
        "lr_air = LogisticRegression(featuresCol=\"features\", labelCol=\"label\")\n",
        "model_air = lr_air.fit(df_train_air_ml)\n",
        "\n",
        "print(\"Modelo de Regresión Logística para calidad del aire entrenado.\")"
      ],
      "metadata": {
        "colab": {
          "base_uri": "https://localhost:8080/"
        },
        "id": "cV9c9nHypQiq",
        "outputId": "8b409db5-42fc-4983-c480-c18443fc376b"
      },
      "execution_count": 224,
      "outputs": [
        {
          "output_type": "stream",
          "name": "stdout",
          "text": [
            "Modelo de Regresión Logística para calidad del aire entrenado.\n"
          ]
        }
      ]
    },
    {
      "cell_type": "code",
      "source": [
        "# Predict on the training data with original columns included\n",
        "predictions = model_air.transform(df_train_air_ml)\n",
        "predictions.show(5)"
      ],
      "metadata": {
        "colab": {
          "base_uri": "https://localhost:8080/"
        },
        "id": "GOxrcovrx_Vc",
        "outputId": "2e2bdd84-fd4a-4e26-92a1-c375ed3da268"
      },
      "execution_count": 225,
      "outputs": [
        {
          "output_type": "stream",
          "name": "stdout",
          "text": [
            "+------------------+------------------+------------------+------------------+-----+--------------------+--------------------+--------------------+----------+\n",
            "|               CO2|             PM2_5|       Temperatura|           Humedad|label|            features|       rawPrediction|         probability|prediction|\n",
            "+------------------+------------------+------------------+------------------+-----+--------------------+--------------------+--------------------+----------+\n",
            "| 485.2205282054238|17.369158731516215|23.873899810740518| 45.30795234570793|    0|[485.220528205423...|[29.2911967787393...|[0.99999999999980...|       0.0|\n",
            "| 1451.466505343295| 41.54005933452778| 27.95840541516296| 72.76141919608386|    1|[1451.46650534329...|[-162.03352177954...|[4.26319902386983...|       1.0|\n",
            "|409.22105664456654|14.116102706347148|  16.1131129574797|50.894963793616036|    0|[409.221056644566...|[55.8773707623938...|           [1.0,0.0]|       0.0|\n",
            "| 549.4600530241008|15.774220087480728|19.037835378575338| 55.41943804064504|    0|[549.460053024100...|[30.4490569461008...|[0.99999999999994...|       0.0|\n",
            "| 528.2047838572523|19.614650212399706|21.534519804707408|53.015896175497275|    0|[528.204783857252...|[17.0652732710564...|[0.99999996121659...|       0.0|\n",
            "+------------------+------------------+------------------+------------------+-----+--------------------+--------------------+--------------------+----------+\n",
            "only showing top 5 rows\n",
            "\n"
          ]
        }
      ]
    },
    {
      "cell_type": "markdown",
      "source": [
        "Evalución del modelo"
      ],
      "metadata": {
        "id": "MyCvysvbwCZO"
      }
    },
    {
      "cell_type": "code",
      "source": [
        "import matplotlib.pyplot as plt\n",
        "import pandas as pd\n",
        "from sklearn.metrics import roc_curve, auc # Import roc_curve and auc\n",
        "\n",
        "# Convertir los resultados de predicción a Pandas DataFrame\n",
        "preds_pd = predictions.select(\"label\", \"probability\").toPandas()\n",
        "\n",
        "# Extraer la probabilidad de la clase 1 (probability es un DenseVector)\n",
        "y_true = preds_pd[\"label\"]\n",
        "y_scores = preds_pd[\"probability\"].apply(lambda x: float(x[1]))\n",
        "\n",
        "# Calcular puntos para la curva ROC\n",
        "fpr, tpr, thresholds = roc_curve(y_true, y_scores)\n",
        "roc_auc = auc(fpr, tpr)\n",
        "\n",
        "# Dibujar curva ROC\n",
        "plt.figure(figsize=(8, 6))\n",
        "plt.plot(fpr, tpr, color='darkorange', lw=2, label=f'Curva ROC (AUC = {roc_auc:.2f})')\n",
        "plt.plot([0, 1], [0, 1], color='navy', lw=2, linestyle='--')\n",
        "plt.xlim([0.0, 1.0])\n",
        "plt.ylim([0.0, 1.05])\n",
        "plt.xlabel('Tasa de Falsos Positivos')\n",
        "plt.ylabel('Tasa de Verdaderos Positivos')\n",
        "plt.title('Curva ROC del Modelo de Clasificación')\n",
        "plt.legend(loc=\"lower right\")\n",
        "plt.grid(True)\n",
        "plt.show()"
      ],
      "metadata": {
        "colab": {
          "base_uri": "https://localhost:8080/",
          "height": 564
        },
        "id": "MFc2ZsqswBfo",
        "outputId": "99d5be02-aeea-4c96-94b9-ab5c0d52391b"
      },
      "execution_count": 226,
      "outputs": [
        {
          "output_type": "display_data",
          "data": {
            "text/plain": [
              "<Figure size 800x600 with 1 Axes>"
            ],
            "image/png": "[encoded data removed]"
          },
          "metadata": {}
        }
      ]
    },
    {
      "cell_type": "code",
      "source": [
        "from sklearn.metrics import confusion_matrix\n",
        "import seaborn as sns\n",
        "import matplotlib.pyplot as plt\n",
        "\n",
        "# Obtener las predicciones y las etiquetas verdaderas\n",
        "y_pred = predictions.select(\"prediction\").collect()\n",
        "y_true = predictions.select(\"label\").collect()\n",
        "\n",
        "# Convertir a listas planas\n",
        "y_pred = [row.prediction for row in y_pred]\n",
        "y_true = [row.label for row in y_true]\n",
        "\n",
        "# Crear la matriz de confusión\n",
        "cm = confusion_matrix(y_true, y_pred)\n",
        "\n",
        "# Visualizar la matriz de confusión\n",
        "plt.figure(figsize=(8, 6))\n",
        "sns.heatmap(cm, annot=True, fmt=\"d\", cmap=\"Blues\", xticklabels=[\"Buena\", \"Mala\"], yticklabels=[\"Buena\", \"Mala\"])\n",
        "plt.title(\"Matriz de Confusión\")\n",
        "plt.xlabel(\"Predicción\")\n",
        "plt.ylabel(\"Valor Verdadero\")\n",
        "plt.show()\n"
      ],
      "metadata": {
        "colab": {
          "base_uri": "https://localhost:8080/",
          "height": 564
        },
        "id": "dAXiHrByyQ_M",
        "outputId": "5bc4321a-3751-4731-e3fc-d510599aeacc"
      },
      "execution_count": 227,
      "outputs": [
        {
          "output_type": "display_data",
          "data": {
            "text/plain": [
              "<Figure size 800x600 with 2 Axes>"
            ],
            "image/png": "[encoded data removed]"
          },
          "metadata": {}
        }
      ]
    },
    {
      "cell_type": "code",
      "source": [
        "from pyspark.ml.evaluation import BinaryClassificationEvaluator, MulticlassClassificationEvaluator\n",
        "\n",
        "# Evaluador binario para AUC y ROC\n",
        "binary_evaluator = BinaryClassificationEvaluator(labelCol=\"label\", rawPredictionCol=\"rawPrediction\", metricName=\"areaUnderROC\")\n",
        "\n",
        "# Evaluadores múltiples para métricas estándar\n",
        "precision_evaluator = MulticlassClassificationEvaluator(labelCol=\"label\", predictionCol=\"prediction\", metricName=\"precisionByLabel\")\n",
        "recall_evaluator = MulticlassClassificationEvaluator(labelCol=\"label\", predictionCol=\"prediction\", metricName=\"recallByLabel\")\n",
        "f1_evaluator = MulticlassClassificationEvaluator(labelCol=\"label\", predictionCol=\"prediction\", metricName=\"f1\")\n",
        "accuracy_evaluator = MulticlassClassificationEvaluator(labelCol=\"label\", predictionCol=\"prediction\", metricName=\"accuracy\")\n",
        "\n",
        "# Calcular métricas\n",
        "precision = precision_evaluator.evaluate(predictions)\n",
        "recall = recall_evaluator.evaluate(predictions)\n",
        "f1 = f1_evaluator.evaluate(predictions)\n",
        "accuracy = accuracy_evaluator.evaluate(predictions)\n",
        "auc = binary_evaluator.evaluate(predictions)\n",
        "\n",
        "print(f\" Precisión: {precision:.4f}\")\n",
        "print(f\" Recall: {recall:.4f}\")\n",
        "print(f\" F1 Score: {f1:.4f}\")\n",
        "print(f\" Accuracy: {accuracy:.4f}\")\n",
        "print(f\" Área bajo la curva (AUC - ROC): {auc:.4f}\")"
      ],
      "metadata": {
        "colab": {
          "base_uri": "https://localhost:8080/"
        },
        "id": "SoxYZoIayrq_",
        "outputId": "1f656c1f-0698-49d0-e8cf-76bfcf78316b"
      },
      "execution_count": 228,
      "outputs": [
        {
          "output_type": "stream",
          "name": "stdout",
          "text": [
            " Precisión: 1.0000\n",
            " Recall: 1.0000\n",
            " F1 Score: 1.0000\n",
            " Accuracy: 1.0000\n",
            " Área bajo la curva (AUC - ROC): 1.0000\n"
          ]
        }
      ]
    },
    {
      "cell_type": "code",
      "source": [
        "import seaborn as sns\n",
        "import matplotlib.pyplot as plt\n",
        "import pandas as pd\n",
        "\n",
        "# Convertir las columnas necesarias a Pandas DataFrame para visualización con seaborn\n",
        "predictions_pd_for_plot = predictions.select(\"label\", \"CO2\", \"PM2_5\").toPandas()\n",
        "\n",
        "# Visualización de la distribución de CO2 y PM2.5 por clase\n",
        "plt.figure(figsize=(12, 5))\n",
        "\n",
        "plt.subplot(1, 2, 1)\n",
        "sns.boxplot(x='label', y='CO2', data=predictions_pd_for_plot)\n",
        "plt.title('Distribución de CO2 por Calidad del Aire')\n",
        "plt.xlabel('Calidad del Aire (Etiqueta Verdadera)')\n",
        "plt.ylabel('CO2')\n",
        "plt.xticks([0, 1], ['Buena', 'Mala'])\n",
        "\n",
        "\n",
        "plt.subplot(1, 2, 2)\n",
        "sns.boxplot(x='label', y='PM2_5', data=predictions_pd_for_plot)\n",
        "plt.title('Distribución de PM2.5 por Calidad del Aire')\n",
        "plt.xlabel('Calidad del Aire (Etiqueta Verdadera)')\n",
        "plt.ylabel('PM2.5')\n",
        "plt.xticks([0, 1], ['Buena', 'Mala'])\n",
        "\n",
        "\n",
        "plt.tight_layout()\n",
        "plt.show()"
      ],
      "metadata": {
        "colab": {
          "base_uri": "https://localhost:8080/",
          "height": 443
        },
        "id": "PicnPYghz1rI",
        "outputId": "f485e14d-00e7-40e3-e279-af3920463006"
      },
      "execution_count": 229,
      "outputs": [
        {
          "output_type": "display_data",
          "data": {
            "text/plain": [
              "<Figure size 1200x500 with 2 Axes>"
            ],
            "image/png": "[encoded data removed]"
          },
          "metadata": {}
        }
      ]
    },
    {
      "cell_type": "code",
      "source": [
        "\n",
        "# Visualización de la distribución de probabilidades\n",
        "predictions_pd_prob = predictions.select(\"label\", \"probability\").toPandas()\n",
        "predictions_pd_prob['prob_mala_calidad'] = predictions_pd_prob['probability'].apply(lambda x: float(x[1]))\n",
        "\n",
        "plt.figure(figsize=(8, 6))\n",
        "sns.histplot(data=predictions_pd_prob, x='prob_mala_calidad', hue='label', kde=True, bins=30)\n",
        "plt.title('Distribución de Probabilidad de \"Mala Calidad\"')\n",
        "plt.xlabel('Probabilidad de Mala Calidad del Aire')\n",
        "plt.ylabel('Frecuencia')\n",
        "plt.legend(title='Etiqueta Verdadera', labels=['Buena', 'Mala'])\n",
        "plt.show()\n"
      ],
      "metadata": {
        "colab": {
          "base_uri": "https://localhost:8080/",
          "height": 564
        },
        "id": "6Tj-TBKd2BsP",
        "outputId": "b70f0cf5-3bd0-4f55-b608-98819c6cc2b2"
      },
      "execution_count": 230,
      "outputs": [
        {
          "output_type": "display_data",
          "data": {
            "text/plain": [
              "<Figure size 800x600 with 1 Axes>"
            ],
            "image/png": "[encoded data removed]"
          },
          "metadata": {}
        }
      ]
    },
    {
      "cell_type": "markdown",
      "source": [
        "Fase 2: Preparación de los datos para streaming"
      ],
      "metadata": {
        "id": "5DWp3_1ccOMT"
      }
    },
    {
      "cell_type": "code",
      "source": [
        "# Crear un directorio para los datos de streaming\n",
        "generated_dir = \"/content/generated_air_quality\"\n",
        "stream_dir = \"/content/stream_air_quality\"\n",
        "os.makedirs(generated_dir, exist_ok=True)\n",
        "os.makedirs(stream_dir, exist_ok=True)\n",
        "\n",
        "# Generar datos ficticios para el streaming\n",
        "# Generar 1000 registros divididos en 20 archivos\n",
        "streaming_data = generate_air_quality_data(1000)\n",
        "\n",
        "\n",
        "# Dividir los datos en 20 archivos\n",
        "chunk_size = len(streaming_data) // 20\n",
        "\n",
        "for i in range(20):\n",
        "    chunk = streaming_data[i * chunk_size : (i + 1) * chunk_size]\n",
        "    df_chunk = pd.DataFrame(chunk, columns=[\"CO2\", \"PM2_5\", \"Temperatura\", \"Humedad\", \"label\"])\n",
        "    df_chunk.to_csv(f\"{generated_dir}/air_quality_part_{i:02d}.csv\", index=False)\n",
        "\n",
        "print(\"Archivos simulados creados en carpeta intermedia.\")\n",
        "\n"
      ],
      "metadata": {
        "colab": {
          "base_uri": "https://localhost:8080/"
        },
        "id": "y-9wdufjcOq6",
        "outputId": "76d4d49c-73ad-4c02-d302-09bbce41c550"
      },
      "execution_count": 231,
      "outputs": [
        {
          "output_type": "stream",
          "name": "stdout",
          "text": [
            "Archivos simulados creados en carpeta intermedia.\n"
          ]
        }
      ]
    },
    {
      "cell_type": "markdown",
      "source": [
        "Fase 3: Creación de la fuente de streaming y transformación con el modelo"
      ],
      "metadata": {
        "id": "ZspePTqhcX3h"
      }
    },
    {
      "cell_type": "code",
      "source": [
        "\n",
        "# Crear la fuente de datos para el stream\n",
        "\n",
        "stream_df = spark.readStream \\\n",
        "    .schema(schema_air) \\\n",
        "    .option(\"maxFilesPerTrigger\", 1) \\\n",
        "    .option(\"header\", True) \\\n",
        "    .csv(stream_dir)\n",
        "\n",
        "display(stream_df)\n",
        "# Ensamblar características para el stream\n",
        "stream_features = assembler.transform(stream_df)\n",
        "print(stream_features.printSchema())\n",
        "stream_predictions = model.transform(stream_features)\n",
        "print(stream_predictions.printSchema())\n",
        "print(\"Stream creado correctamente.\")\n"
      ],
      "metadata": {
        "colab": {
          "base_uri": "https://localhost:8080/",
          "height": 416
        },
        "id": "bxZN1igkcYNy",
        "outputId": "090cb89f-3a2e-4457-8f53-185b0e58e9d7"
      },
      "execution_count": 232,
      "outputs": [
        {
          "output_type": "display_data",
          "data": {
            "text/plain": [
              "DataFrame[CO2: double, PM2_5: double, Temperatura: double, Humedad: double, label: int]"
            ]
          },
          "metadata": {}
        },
        {
          "output_type": "stream",
          "name": "stdout",
          "text": [
            "root\n",
            " |-- CO2: double (nullable = true)\n",
            " |-- PM2_5: double (nullable = true)\n",
            " |-- Temperatura: double (nullable = true)\n",
            " |-- Humedad: double (nullable = true)\n",
            " |-- label: integer (nullable = true)\n",
            " |-- features: vector (nullable = true)\n",
            "\n",
            "None\n",
            "root\n",
            " |-- CO2: double (nullable = true)\n",
            " |-- PM2_5: double (nullable = true)\n",
            " |-- Temperatura: double (nullable = true)\n",
            " |-- Humedad: double (nullable = true)\n",
            " |-- label: integer (nullable = true)\n",
            " |-- features: vector (nullable = true)\n",
            " |-- rawPrediction: vector (nullable = true)\n",
            " |-- probability: vector (nullable = true)\n",
            " |-- prediction: double (nullable = false)\n",
            "\n",
            "None\n",
            "Stream creado correctamente.\n"
          ]
        }
      ]
    },
    {
      "cell_type": "code",
      "source": [
        "display(stream_features)"
      ],
      "metadata": {
        "colab": {
          "base_uri": "https://localhost:8080/",
          "height": 34
        },
        "id": "ZosYFnAuvYSQ",
        "outputId": "b916ec50-cef7-43fe-f809-77f0d19455e2"
      },
      "execution_count": 233,
      "outputs": [
        {
          "output_type": "display_data",
          "data": {
            "text/plain": [
              "DataFrame[CO2: double, PM2_5: double, Temperatura: double, Humedad: double, label: int, features: vector]"
            ]
          },
          "metadata": {}
        }
      ]
    },
    {
      "cell_type": "code",
      "source": [
        "display(stream_predictions)"
      ],
      "metadata": {
        "colab": {
          "base_uri": "https://localhost:8080/",
          "height": 52
        },
        "id": "J2DNi_M2vVTx",
        "outputId": "4325d6da-20ef-4292-d8b1-b1e77ffd853e"
      },
      "execution_count": 234,
      "outputs": [
        {
          "output_type": "display_data",
          "data": {
            "text/plain": [
              "DataFrame[CO2: double, PM2_5: double, Temperatura: double, Humedad: double, label: int, features: vector, rawPrediction: vector, probability: vector, prediction: double]"
            ]
          },
          "metadata": {}
        }
      ]
    },
    {
      "cell_type": "markdown",
      "source": [
        "Fase 4: Implementación de una Consulta adicional"
      ],
      "metadata": {
        "id": "SyvhNI23cktc"
      }
    },
    {
      "cell_type": "code",
      "source": [
        "# Crear una segunda consulta sobre el stream resultante\n",
        "query = stream_predictions.writeStream \\\n",
        "    .format(\"memory\") \\\n",
        "    .queryName(\"calidadAireClassification\") \\\n",
        "    .outputMode(\"append\") \\\n",
        "    .start()\n",
        "\n",
        "print(\"Streaming iniciado...\")"
      ],
      "metadata": {
        "colab": {
          "base_uri": "https://localhost:8080/"
        },
        "id": "o9K5GYEWckQ7",
        "outputId": "510bf51a-5e43-4dd1-8dc7-d50069a6547a"
      },
      "execution_count": 235,
      "outputs": [
        {
          "output_type": "stream",
          "name": "stdout",
          "text": [
            "Streaming iniciado...\n"
          ]
        }
      ]
    },
    {
      "cell_type": "code",
      "source": [
        "#Simular llegada progresiva\n",
        "for i in range(20):\n",
        "    src = f\"{generated_dir}/air_quality_part_{i:02d}.csv\"\n",
        "    dst = f\"{stream_dir}/air_quality_part_{i:02d}.csv\"\n",
        "    shutil.copy(src, dst)\n",
        "    print(f\"Archivo {i:02d} copiado al stream.\")\n",
        "    time.sleep(1)  # Espera entre archivos\n",
        "\n",
        "# Esperar a que se procesen algunos lotes\n",
        "time.sleep(20)"
      ],
      "metadata": {
        "colab": {
          "base_uri": "https://localhost:8080/"
        },
        "id": "tdKVXZbFrWPz",
        "outputId": "887941b3-d112-4cbf-fee4-5a56c712416a"
      },
      "execution_count": 236,
      "outputs": [
        {
          "output_type": "stream",
          "name": "stdout",
          "text": [
            "Archivo 00 copiado al stream.\n",
            "Archivo 01 copiado al stream.\n",
            "Archivo 02 copiado al stream.\n",
            "Archivo 03 copiado al stream.\n",
            "Archivo 04 copiado al stream.\n",
            "Archivo 05 copiado al stream.\n",
            "Archivo 06 copiado al stream.\n",
            "Archivo 07 copiado al stream.\n",
            "Archivo 08 copiado al stream.\n",
            "Archivo 09 copiado al stream.\n",
            "Archivo 10 copiado al stream.\n",
            "Archivo 11 copiado al stream.\n",
            "Archivo 12 copiado al stream.\n",
            "Archivo 13 copiado al stream.\n",
            "Archivo 14 copiado al stream.\n",
            "Archivo 15 copiado al stream.\n",
            "Archivo 16 copiado al stream.\n",
            "Archivo 17 copiado al stream.\n",
            "Archivo 18 copiado al stream.\n",
            "Archivo 19 copiado al stream.\n"
          ]
        }
      ]
    },
    {
      "cell_type": "markdown",
      "source": [
        "Fase 5: Evaluación del Modelo en streaming\n"
      ],
      "metadata": {
        "id": "tP373OHDclUp"
      }
    },
    {
      "cell_type": "code",
      "source": [
        "df_query = spark.sql(\"SELECT * FROM calidadAireClassification\")\n",
        "while df_query.count() == 0:\n",
        "    print(\"⏳ Esperando datos en memoria...\")\n",
        "    time.sleep(5)\n",
        "    df_query = spark.sql(\"SELECT * FROM calidadAireClassification\")\n",
        "display(df_query.show(5))"
      ],
      "metadata": {
        "colab": {
          "base_uri": "https://localhost:8080/",
          "height": 245
        },
        "id": "L6CYmCSxckGD",
        "outputId": "3e8a497c-e385-4a31-fa2c-2e9121caa48d"
      },
      "execution_count": 237,
      "outputs": [
        {
          "output_type": "stream",
          "name": "stdout",
          "text": [
            "+------------------+------------------+------------------+------------------+-----+--------------------+--------------------+--------------------+----------+\n",
            "|               CO2|             PM2_5|       Temperatura|           Humedad|label|            features|       rawPrediction|         probability|prediction|\n",
            "+------------------+------------------+------------------+------------------+-----+--------------------+--------------------+--------------------+----------+\n",
            "| 585.4579379196131|  6.23424040647702|19.184117372528426| 47.16327217364186|    0|[585.457937919613...|[48.1331373694015...|           [1.0,0.0]|       0.0|\n",
            "| 499.6034675691298|17.538789469029894|15.392777130586936|51.642770671669886|    0|[499.603467569129...|[26.0823343731548...|[0.99999999999529...|       0.0|\n",
            "| 453.1178034028627| 9.617708898511529|17.063116293819395| 49.41191228022153|    0|[453.117803402862...|[48.7169579640766...|           [1.0,0.0]|       0.0|\n",
            "| 343.0822661596944|11.878648457358556|16.283046039589745|41.599784122216775|    0|[343.082266159694...|[51.1158317242815...|           [1.0,0.0]|       0.0|\n",
            "|1166.5700874415647| 62.63106158820548| 20.48722373689882|57.152182119481836|    1|[1166.57008744156...|[-133.38265766809...|[1.18208251424899...|       1.0|\n",
            "+------------------+------------------+------------------+------------------+-----+--------------------+--------------------+--------------------+----------+\n",
            "only showing top 5 rows\n",
            "\n"
          ]
        },
        {
          "output_type": "display_data",
          "data": {
            "text/plain": [
              "None"
            ]
          },
          "metadata": {}
        }
      ]
    },
    {
      "cell_type": "code",
      "source": [
        "print(f\"Datos disponibles: {df_query.count()} filas.\")\n",
        "\n",
        "# Crear el evaluador\n",
        "evaluator = MulticlassClassificationEvaluator(labelCol=\"label\", predictionCol=\"prediction\", metricName=\"accuracy\")\n",
        "accuracy = evaluator.evaluate(df_query)\n",
        "print(f\"Accuracy del modelo en streaming: {accuracy:.4f}\")\n",
        "#"
      ],
      "metadata": {
        "colab": {
          "base_uri": "https://localhost:8080/"
        },
        "id": "8JAIoJidtYgI",
        "outputId": "02c713e3-2a28-4b63-a830-6c7fff03935b"
      },
      "execution_count": 238,
      "outputs": [
        {
          "output_type": "stream",
          "name": "stdout",
          "text": [
            "Datos disponibles: 1000 filas.\n",
            "Accuracy del modelo en streaming: 1.0000\n"
          ]
        }
      ]
    },
    {
      "cell_type": "code",
      "source": [
        "\n",
        "# Detener las consultas de streaming\n",
        "query.stop()\n",
        "spark.stop()\n",
        "print(\"Stream detenido y Spark finalizado.\")"
      ],
      "metadata": {
        "colab": {
          "base_uri": "https://localhost:8080/"
        },
        "id": "W_vIvh0RtQh7",
        "outputId": "1c1bf73b-aac3-4d37-8bd9-6f5b6ca8df36"
      },
      "execution_count": 239,
      "outputs": [
        {
          "output_type": "stream",
          "name": "stdout",
          "text": [
            "Stream detenido y Spark finalizado.\n"
          ]
        }
      ]
    }
  ]
}