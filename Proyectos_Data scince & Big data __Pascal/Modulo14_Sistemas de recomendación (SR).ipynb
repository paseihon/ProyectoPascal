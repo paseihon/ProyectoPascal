{
  "nbformat": 4,
  "nbformat_minor": 0,
  "metadata": {
    "colab": {
      "provenance": []
    },
    "kernelspec": {
      "name": "python3",
      "display_name": "Python 3"
    },
    "language_info": {
      "name": "python"
    }
  },
  "cells": [
    {
      "cell_type": "markdown",
      "source": [
        "#Artículo Medium ---- Pascal"
      ],
      "metadata": {
        "id": "UDPTIJWMF0ya"
      }
    },
    {
      "cell_type": "markdown",
      "source": [
        "**https://medium.com/@seihon17/aprendizajes-clave-y-mi-proyecto-final-sobre-sistemas-de-recomendaci%C3%B3n-4c63bc6f9028**"
      ],
      "metadata": {
        "id": "EjbfLmvvFtfE"
      }
    },
    {
      "cell_type": "markdown",
      "source": [
        "# Proyecto Pascal, SR de musicas para usuarios"
      ],
      "metadata": {
        "id": "LVxsWJHD6VUn"
      }
    },
    {
      "cell_type": "code",
      "execution_count": null,
      "metadata": {
        "id": "riql9nbn4SHT"
      },
      "outputs": [],
      "source": [
        "#Generación de datos ficticios\n",
        "import pandas as pd\n",
        "import random\n",
        "\n",
        "# Nombres de usuarios\n",
        "user_names = ['Alice', 'Bob', 'Carla', 'David', 'Eva', 'Frank', 'Grace', 'Hector', 'Isabel', 'Juan']\n",
        "\n",
        "# Canciones reales\n",
        "song_titles = [\n",
        "    'Blinding Lights', 'Shape of You', 'Levitating', 'Stay', 'Drivers License',\n",
        "    'Good 4 U', 'Senorita', 'Shallow'\n",
        "]\n",
        "\n",
        "# Crear calificaciones ficticias\n",
        "ratings_data = []\n",
        "\n",
        "random.seed(42)\n",
        "for user in user_names:\n",
        "    songs_sampled = random.sample(song_titles, k=4)\n",
        "    for song in songs_sampled:\n",
        "        rating = random.randint(2, 5)  # Escala de 2 a 5 para evitar outliers bajos\n",
        "        ratings_data.append({'userID': user, 'songID': song, 'rating': rating})\n",
        "\n",
        "df = pd.DataFrame(ratings_data)\n"
      ]
    },
    {
      "cell_type": "code",
      "source": [
        "df.head()"
      ],
      "metadata": {
        "colab": {
          "base_uri": "https://localhost:8080/",
          "height": 206
        },
        "id": "jJUTFO5d6qYM",
        "outputId": "aff7b7e1-5ad7-42bb-bad9-dd6ffda882b6"
      },
      "execution_count": null,
      "outputs": [
        {
          "output_type": "execute_result",
          "data": {
            "text/plain": [
              "  userID           songID  rating\n",
              "0  Alice     Shape of You       3\n",
              "1  Alice  Blinding Lights       3\n",
              "2  Alice         Good 4 U       3\n",
              "3  Alice       Levitating       2\n",
              "4    Bob     Shape of You       2"
            ],
            "text/html": [
              "\n",
              "  <div id=\"df-0d951c24-cbdd-40d0-8e5d-f6b0718ff462\" class=\"colab-df-container\">\n",
              "    <div>\n",
              "<style scoped>\n",
              "    .dataframe tbody tr th:only-of-type {\n",
              "        vertical-align: middle;\n",
              "    }\n",
              "\n",
              "    .dataframe tbody tr th {\n",
              "        vertical-align: top;\n",
              "    }\n",
              "\n",
              "    .dataframe thead th {\n",
              "        text-align: right;\n",
              "    }\n",
              "</style>\n",
              "<table border=\"1\" class=\"dataframe\">\n",
              "  <thead>\n",
              "    <tr style=\"text-align: right;\">\n",
              "      <th></th>\n",
              "      <th>userID</th>\n",
              "      <th>songID</th>\n",
              "      <th>rating</th>\n",
              "    </tr>\n",
              "  </thead>\n",
              "  <tbody>\n",
              "    <tr>\n",
              "      <th>0</th>\n",
              "      <td>Alice</td>\n",
              "      <td>Shape of You</td>\n",
              "      <td>3</td>\n",
              "    </tr>\n",
              "    <tr>\n",
              "      <th>1</th>\n",
              "      <td>Alice</td>\n",
              "      <td>Blinding Lights</td>\n",
              "      <td>3</td>\n",
              "    </tr>\n",
              "    <tr>\n",
              "      <th>2</th>\n",
              "      <td>Alice</td>\n",
              "      <td>Good 4 U</td>\n",
              "      <td>3</td>\n",
              "    </tr>\n",
              "    <tr>\n",
              "      <th>3</th>\n",
              "      <td>Alice</td>\n",
              "      <td>Levitating</td>\n",
              "      <td>2</td>\n",
              "    </tr>\n",
              "    <tr>\n",
              "      <th>4</th>\n",
              "      <td>Bob</td>\n",
              "      <td>Shape of You</td>\n",
              "      <td>2</td>\n",
              "    </tr>\n",
              "  </tbody>\n",
              "</table>\n",
              "</div>\n",
              "    <div class=\"colab-df-buttons\">\n",
              "\n",
              "  <div class=\"colab-df-container\">\n",
              "    <button class=\"colab-df-convert\" onclick=\"convertToInteractive('df-0d951c24-cbdd-40d0-8e5d-f6b0718ff462')\"\n",
              "            title=\"Convert this dataframe to an interactive table.\"\n",
              "            style=\"display:none;\">\n",
              "\n",
              "  <svg xmlns=\"http://www.w3.org/2000/svg\" height=\"24px\" viewBox=\"0 -960 960 960\">\n",
              "    <path d=\"M120-120v-720h720v720H120Zm60-500h600v-160H180v160Zm220 220h160v-160H400v160Zm0 220h160v-160H400v160ZM180-400h160v-160H180v160Zm440 0h160v-160H620v160ZM180-180h160v-160H180v160Zm440 0h160v-160H620v160Z\"/>\n",
              "  </svg>\n",
              "    </button>\n",
              "\n",
              "  <style>\n",
              "    .colab-df-container {\n",
              "      display:flex;\n",
              "      gap: 12px;\n",
              "    }\n",
              "\n",
              "    .colab-df-convert {\n",
              "      background-color: #E8F0FE;\n",
              "      border: none;\n",
              "      border-radius: 50%;\n",
              "      cursor: pointer;\n",
              "      display: none;\n",
              "      fill: #1967D2;\n",
              "      height: 32px;\n",
              "      padding: 0 0 0 0;\n",
              "      width: 32px;\n",
              "    }\n",
              "\n",
              "    .colab-df-convert:hover {\n",
              "      background-color: #E2EBFA;\n",
              "      box-shadow: 0px 1px 2px rgba(60, 64, 67, 0.3), 0px 1px 3px 1px rgba(60, 64, 67, 0.15);\n",
              "      fill: #174EA6;\n",
              "    }\n",
              "\n",
              "    .colab-df-buttons div {\n",
              "      margin-bottom: 4px;\n",
              "    }\n",
              "\n",
              "    [theme=dark] .colab-df-convert {\n",
              "      background-color: #3B4455;\n",
              "      fill: #D2E3FC;\n",
              "    }\n",
              "\n",
              "    [theme=dark] .colab-df-convert:hover {\n",
              "      background-color: #434B5C;\n",
              "      box-shadow: 0px 1px 3px 1px rgba(0, 0, 0, 0.15);\n",
              "      filter: drop-shadow(0px 1px 2px rgba(0, 0, 0, 0.3));\n",
              "      fill: #FFFFFF;\n",
              "    }\n",
              "  </style>\n",
              "\n",
              "    <script>\n",
              "      const buttonEl =\n",
              "        document.querySelector('#df-0d951c24-cbdd-40d0-8e5d-f6b0718ff462 button.colab-df-convert');\n",
              "      buttonEl.style.display =\n",
              "        google.colab.kernel.accessAllowed ? 'block' : 'none';\n",
              "\n",
              "      async function convertToInteractive(key) {\n",
              "        const element = document.querySelector('#df-0d951c24-cbdd-40d0-8e5d-f6b0718ff462');\n",
              "        const dataTable =\n",
              "          await google.colab.kernel.invokeFunction('convertToInteractive',\n",
              "                                                    [key], {});\n",
              "        if (!dataTable) return;\n",
              "\n",
              "        const docLinkHtml = 'Like what you see? Visit the ' +\n",
              "          '<a target=\"_blank\" href=https://colab.research.google.com/notebooks/data_table.ipynb>data table notebook</a>'\n",
              "          + ' to learn more about interactive tables.';\n",
              "        element.innerHTML = '';\n",
              "        dataTable['output_type'] = 'display_data';\n",
              "        await google.colab.output.renderOutput(dataTable, element);\n",
              "        const docLink = document.createElement('div');\n",
              "        docLink.innerHTML = docLinkHtml;\n",
              "        element.appendChild(docLink);\n",
              "      }\n",
              "    </script>\n",
              "  </div>\n",
              "\n",
              "\n",
              "    <div id=\"df-1c47ae36-0a58-4cf5-8d13-4f00b498a85d\">\n",
              "      <button class=\"colab-df-quickchart\" onclick=\"quickchart('df-1c47ae36-0a58-4cf5-8d13-4f00b498a85d')\"\n",
              "                title=\"Suggest charts\"\n",
              "                style=\"display:none;\">\n",
              "\n",
              "<svg xmlns=\"http://www.w3.org/2000/svg\" height=\"24px\"viewBox=\"0 0 24 24\"\n",
              "     width=\"24px\">\n",
              "    <g>\n",
              "        <path d=\"M19 3H5c-1.1 0-2 .9-2 2v14c0 1.1.9 2 2 2h14c1.1 0 2-.9 2-2V5c0-1.1-.9-2-2-2zM9 17H7v-7h2v7zm4 0h-2V7h2v10zm4 0h-2v-4h2v4z\"/>\n",
              "    </g>\n",
              "</svg>\n",
              "      </button>\n",
              "\n",
              "<style>\n",
              "  .colab-df-quickchart {\n",
              "      --bg-color: #E8F0FE;\n",
              "      --fill-color: #1967D2;\n",
              "      --hover-bg-color: #E2EBFA;\n",
              "      --hover-fill-color: #174EA6;\n",
              "      --disabled-fill-color: #AAA;\n",
              "      --disabled-bg-color: #DDD;\n",
              "  }\n",
              "\n",
              "  [theme=dark] .colab-df-quickchart {\n",
              "      --bg-color: #3B4455;\n",
              "      --fill-color: #D2E3FC;\n",
              "      --hover-bg-color: #434B5C;\n",
              "      --hover-fill-color: #FFFFFF;\n",
              "      --disabled-bg-color: #3B4455;\n",
              "      --disabled-fill-color: #666;\n",
              "  }\n",
              "\n",
              "  .colab-df-quickchart {\n",
              "    background-color: var(--bg-color);\n",
              "    border: none;\n",
              "    border-radius: 50%;\n",
              "    cursor: pointer;\n",
              "    display: none;\n",
              "    fill: var(--fill-color);\n",
              "    height: 32px;\n",
              "    padding: 0;\n",
              "    width: 32px;\n",
              "  }\n",
              "\n",
              "  .colab-df-quickchart:hover {\n",
              "    background-color: var(--hover-bg-color);\n",
              "    box-shadow: 0 1px 2px rgba(60, 64, 67, 0.3), 0 1px 3px 1px rgba(60, 64, 67, 0.15);\n",
              "    fill: var(--button-hover-fill-color);\n",
              "  }\n",
              "\n",
              "  .colab-df-quickchart-complete:disabled,\n",
              "  .colab-df-quickchart-complete:disabled:hover {\n",
              "    background-color: var(--disabled-bg-color);\n",
              "    fill: var(--disabled-fill-color);\n",
              "    box-shadow: none;\n",
              "  }\n",
              "\n",
              "  .colab-df-spinner {\n",
              "    border: 2px solid var(--fill-color);\n",
              "    border-color: transparent;\n",
              "    border-bottom-color: var(--fill-color);\n",
              "    animation:\n",
              "      spin 1s steps(1) infinite;\n",
              "  }\n",
              "\n",
              "  @keyframes spin {\n",
              "    0% {\n",
              "      border-color: transparent;\n",
              "      border-bottom-color: var(--fill-color);\n",
              "      border-left-color: var(--fill-color);\n",
              "    }\n",
              "    20% {\n",
              "      border-color: transparent;\n",
              "      border-left-color: var(--fill-color);\n",
              "      border-top-color: var(--fill-color);\n",
              "    }\n",
              "    30% {\n",
              "      border-color: transparent;\n",
              "      border-left-color: var(--fill-color);\n",
              "      border-top-color: var(--fill-color);\n",
              "      border-right-color: var(--fill-color);\n",
              "    }\n",
              "    40% {\n",
              "      border-color: transparent;\n",
              "      border-right-color: var(--fill-color);\n",
              "      border-top-color: var(--fill-color);\n",
              "    }\n",
              "    60% {\n",
              "      border-color: transparent;\n",
              "      border-right-color: var(--fill-color);\n",
              "    }\n",
              "    80% {\n",
              "      border-color: transparent;\n",
              "      border-right-color: var(--fill-color);\n",
              "      border-bottom-color: var(--fill-color);\n",
              "    }\n",
              "    90% {\n",
              "      border-color: transparent;\n",
              "      border-bottom-color: var(--fill-color);\n",
              "    }\n",
              "  }\n",
              "</style>\n",
              "\n",
              "      <script>\n",
              "        async function quickchart(key) {\n",
              "          const quickchartButtonEl =\n",
              "            document.querySelector('#' + key + ' button');\n",
              "          quickchartButtonEl.disabled = true;  // To prevent multiple clicks.\n",
              "          quickchartButtonEl.classList.add('colab-df-spinner');\n",
              "          try {\n",
              "            const charts = await google.colab.kernel.invokeFunction(\n",
              "                'suggestCharts', [key], {});\n",
              "          } catch (error) {\n",
              "            console.error('Error during call to suggestCharts:', error);\n",
              "          }\n",
              "          quickchartButtonEl.classList.remove('colab-df-spinner');\n",
              "          quickchartButtonEl.classList.add('colab-df-quickchart-complete');\n",
              "        }\n",
              "        (() => {\n",
              "          let quickchartButtonEl =\n",
              "            document.querySelector('#df-1c47ae36-0a58-4cf5-8d13-4f00b498a85d button');\n",
              "          quickchartButtonEl.style.display =\n",
              "            google.colab.kernel.accessAllowed ? 'block' : 'none';\n",
              "        })();\n",
              "      </script>\n",
              "    </div>\n",
              "\n",
              "    </div>\n",
              "  </div>\n"
            ],
            "application/vnd.google.colaboratory.intrinsic+json": {
              "type": "dataframe",
              "variable_name": "df",
              "summary": "{\n  \"name\": \"df\",\n  \"rows\": 40,\n  \"fields\": [\n    {\n      \"column\": \"userID\",\n      \"properties\": {\n        \"dtype\": \"category\",\n        \"num_unique_values\": 10,\n        \"samples\": [\n          \"Isabel\",\n          \"Bob\",\n          \"Frank\"\n        ],\n        \"semantic_type\": \"\",\n        \"description\": \"\"\n      }\n    },\n    {\n      \"column\": \"songID\",\n      \"properties\": {\n        \"dtype\": \"category\",\n        \"num_unique_values\": 8,\n        \"samples\": [\n          \"Blinding Lights\",\n          \"Stay\",\n          \"Shape of You\"\n        ],\n        \"semantic_type\": \"\",\n        \"description\": \"\"\n      }\n    },\n    {\n      \"column\": \"rating\",\n      \"properties\": {\n        \"dtype\": \"number\",\n        \"std\": 0,\n        \"min\": 2,\n        \"max\": 5,\n        \"num_unique_values\": 4,\n        \"samples\": [\n          2,\n          4,\n          3\n        ],\n        \"semantic_type\": \"\",\n        \"description\": \"\"\n      }\n    }\n  ]\n}"
            }
          },
          "metadata": {},
          "execution_count": 2
        }
      ]
    },
    {
      "cell_type": "markdown",
      "source": [
        "Sistema de recomendación con Surprise (KNN)"
      ],
      "metadata": {
        "id": "xqrwxodH-Ifk"
      }
    },
    {
      "cell_type": "code",
      "metadata": {
        "colab": {
          "base_uri": "https://localhost:8080/"
        },
        "id": "18116724",
        "outputId": "e937b22f-4b45-47b9-db03-9d378c2d5103"
      },
      "source": [
        "%pip install surprise"
      ],
      "execution_count": null,
      "outputs": [
        {
          "output_type": "stream",
          "name": "stdout",
          "text": [
            "Requirement already satisfied: surprise in /usr/local/lib/python3.11/dist-packages (0.1)\n",
            "Requirement already satisfied: scikit-surprise in /usr/local/lib/python3.11/dist-packages (from surprise) (1.1.4)\n",
            "Requirement already satisfied: joblib>=1.2.0 in /usr/local/lib/python3.11/dist-packages (from scikit-surprise->surprise) (1.5.1)\n",
            "Requirement already satisfied: numpy>=1.19.5 in /usr/local/lib/python3.11/dist-packages (from scikit-surprise->surprise) (1.26.4)\n",
            "Requirement already satisfied: scipy>=1.6.0 in /usr/local/lib/python3.11/dist-packages (from scikit-surprise->surprise) (1.15.3)\n"
          ]
        }
      ]
    },
    {
      "cell_type": "code",
      "metadata": {
        "colab": {
          "base_uri": "https://localhost:8080/"
        },
        "id": "7e70180e",
        "outputId": "7b9b3acf-b1d6-4df4-f45b-c9e781a3c620"
      },
      "source": [
        "%pip install \"numpy<2.0\""
      ],
      "execution_count": null,
      "outputs": [
        {
          "output_type": "stream",
          "name": "stdout",
          "text": [
            "Requirement already satisfied: numpy<2.0 in /usr/local/lib/python3.11/dist-packages (1.26.4)\n"
          ]
        }
      ]
    },
    {
      "cell_type": "code",
      "source": [
        "%pip install -U \"pybind11>=2.12\""
      ],
      "metadata": {
        "colab": {
          "base_uri": "https://localhost:8080/"
        },
        "id": "ROtdgIORESOT",
        "outputId": "a9f71d46-d0e4-43bb-8234-ecc3e4f85e86"
      },
      "execution_count": null,
      "outputs": [
        {
          "output_type": "stream",
          "name": "stdout",
          "text": [
            "Requirement already satisfied: pybind11>=2.12 in /usr/local/lib/python3.11/dist-packages (2.13.6)\n"
          ]
        }
      ]
    },
    {
      "cell_type": "code",
      "source": [
        "import numpy as np\n",
        "from surprise import Dataset, Reader, KNNBasic\n",
        "from surprise.model_selection import train_test_split\n",
        "from surprise import accuracy\n",
        "\n",
        "# Crear objeto Reader con rango de calificación\n",
        "reader = Reader(rating_scale=(1, 5))\n",
        "\n",
        "# Cargar el dataset desde DataFrame\n",
        "data = Dataset.load_from_df(df[['userID', 'songID', 'rating']], reader)\n",
        "\n",
        "# Split en entrenamiento/prueba\n",
        "trainset, testset = train_test_split(data, test_size=0.2, random_state=123)\n",
        "\n",
        "# Elegir algoritmo KNN\n",
        "algo = KNNBasic()\n",
        "algo.fit(trainset)\n",
        "\n",
        "# Predecir y evaluar\n",
        "predictions = algo.test(testset)\n",
        "accuracy.rmse(predictions)"
      ],
      "metadata": {
        "colab": {
          "base_uri": "https://localhost:8080/"
        },
        "id": "bqCTDSHJ-JLP",
        "outputId": "f05668cb-dfe3-477a-b4bf-63a1409e4907"
      },
      "execution_count": null,
      "outputs": [
        {
          "output_type": "stream",
          "name": "stdout",
          "text": [
            "Computing the msd similarity matrix...\n",
            "Done computing similarity matrix.\n",
            "RMSE: 0.7894\n"
          ]
        },
        {
          "output_type": "execute_result",
          "data": {
            "text/plain": [
              "0.7894098729371483"
            ]
          },
          "metadata": {},
          "execution_count": 6
        }
      ]
    },
    {
      "cell_type": "code",
      "source": [
        "\n",
        "from sklearn.metrics import roc_curve, auc\n",
        "import matplotlib.pyplot as plt\n",
        "import numpy as np\n",
        "\n",
        "# Generar etiquetas binarias (ej. 1 si la calificación predicha >= umbral, 0 si < umbral)\n",
        "# Para propósitos de demostración, usaremos un umbral simple\n",
        "# En un caso real, la curva ROC se usa típicamente para clasificadores binarios.\n",
        "# Adaptaremos esto para un problema de recomendación.\n",
        "\n",
        "# Vamos a considerar una \"clasificación\" binaria: si la recomendación es buena (rating > 3.5) o no.\n",
        "# Primero, necesitamos los ratings reales y predichos del conjunto de prueba.\n",
        "actual_ratings = np.array([pred.r_ui for pred in predictions])\n",
        "predicted_ratings = np.array([pred.est for pred in predictions])\n",
        "\n",
        "# Definir un umbral para binarizar las calificaciones reales y predichas\n",
        "threshold = 3.5\n",
        "\n",
        "# Etiquetas binarias reales (1 si la calificación real > umbral, 0 en otro caso)\n",
        "# Usamos la mediana como umbral para evitar que una clase sea demasiado dominante\n",
        "median_rating = np.median(actual_ratings)\n",
        "true_labels = (actual_ratings > median_rating).astype(int)\n",
        "\n",
        "# \"Probabilidades\" predichas para la clase positiva (rating > umbral)\n",
        "# Una forma de aproximar esto en un sistema de recomendación es usar el rating predicho directamente.\n",
        "# Los ratings predichos más altos corresponden a una mayor \"probabilidad\" de que la calificación sea mayor que el umbral.\n",
        "predicted_scores = predicted_ratings\n",
        "\n",
        "# Calcular la curva ROC y el Área bajo la curva (AUC)\n",
        "# fpr: Tasa de falsos positivos\n",
        "# tpr: Tasa de verdaderos positivos\n",
        "# thresholds: Umbrales utilizados para binarización\n",
        "fpr, tpr, thresholds = roc_curve(true_labels, predicted_scores)\n",
        "roc_auc = auc(fpr, tpr)\n",
        "\n",
        "# Graficar la curva ROC\n",
        "plt.figure()\n",
        "plt.plot(fpr, tpr, color='darkorange', lw=2, label='Curva ROC (AUC = %0.2f)' % roc_auc)\n",
        "plt.plot([0, 1], [0, 1], color='navy', lw=2, linestyle='--')\n",
        "plt.xlim([0.0, 1.0])\n",
        "plt.ylim([0.0, 1.05])\n",
        "plt.xlabel('Tasa de Falsos Positivos')\n",
        "plt.ylabel('Tasa de Verdaderos Positivos')\n",
        "plt.title('Curva ROC')\n",
        "plt.legend(loc=\"lower right\")\n",
        "plt.show()\n"
      ],
      "metadata": {
        "colab": {
          "base_uri": "https://localhost:8080/",
          "height": 472
        },
        "id": "mVyJ9Rg4FgSQ",
        "outputId": "31138ea3-e1ca-4b66-9fd7-e668f5ffafa0"
      },
      "execution_count": null,
      "outputs": [
        {
          "output_type": "display_data",
          "data": {
            "text/plain": [
              "<Figure size 640x480 with 1 Axes>"
            ],
            "image/png": "[encoded data removed]"
          },
          "metadata": {}
        }
      ]
    },
    {
      "cell_type": "code",
      "source": [
        "import matplotlib.pyplot as plt\n",
        "from sklearn.metrics import confusion_matrix, ConfusionMatrixDisplay\n",
        "\n",
        "# Binarizar las predicciones basadas en el mismo umbral\n",
        "predicted_labels = (predicted_ratings > median_rating).astype(int)\n",
        "\n",
        "# Generar la matriz de confusión\n",
        "cm = confusion_matrix(true_labels, predicted_labels)\n",
        "\n",
        "# Mostrar la matriz de confusión\n",
        "disp = ConfusionMatrixDisplay(confusion_matrix=cm, display_labels=[0, 1])\n",
        "disp.plot()\n",
        "plt.title('Matriz de Confusión')\n",
        "plt.show()\n"
      ],
      "metadata": {
        "colab": {
          "base_uri": "https://localhost:8080/",
          "height": 472
        },
        "id": "nsYiEQswF4YA",
        "outputId": "401d5cb7-1448-42b0-dd55-2c5c1f1f86bf"
      },
      "execution_count": null,
      "outputs": [
        {
          "output_type": "display_data",
          "data": {
            "text/plain": [
              "<Figure size 640x480 with 2 Axes>"
            ],
            "image/png": "[encoded data removed]"
          },
          "metadata": {}
        }
      ]
    },
    {
      "cell_type": "code",
      "source": [
        "def get_custom_prediction(user_id, song_title, algo):\n",
        "    \"\"\"\n",
        "    Obtiene una predicción personalizada para un usuario y una canción específicos.\n",
        "\n",
        "    Args:\n",
        "        user_id (str): El ID del usuario.\n",
        "        song_title (str): El título de la canción.\n",
        "        algo: El modelo de recomendación entrenado de Surprise.\n",
        "\n",
        "    Returns:\n",
        "        float: El rating predicho para el par usuario-canción.\n",
        "               Retorna un valor por defecto (ej. None o un valor bajo) si la canción no está en el dataset.\n",
        "    \"\"\"\n",
        "    try:\n",
        "        # Obtener la predicción para el par usuario-canción\n",
        "        prediction = algo.predict(user_id, song_title)\n",
        "        return prediction.est # El rating predicho\n",
        "    except ValueError:\n",
        "        # Manejar el caso donde el usuario o la canción no están en el conjunto de entrenamiento\n",
        "        print(f\"Usuario '{user_id}' o canción '{song_title}' no encontrada en el conjunto de entrenamiento.\")\n",
        "        return None\n",
        "\n",
        "# Ejemplo de uso:\n",
        "user_to_predict = 'Alice'\n",
        "song_to_predict = 'Shallow' # Una canción en el dataset\n",
        "# song_to_predict = 'Nueva Cancion' # Una canción que no está en el dataset\n",
        "\n",
        "predicted_rating = get_custom_prediction(user_to_predict, song_to_predict, algo)\n",
        "\n",
        "if predicted_rating is not None:\n",
        "    print(f\"El rating predicho para '{user_to_predict}' y '{song_to_predict}' es: {predicted_rating:.2f}\")\n"
      ],
      "metadata": {
        "colab": {
          "base_uri": "https://localhost:8080/"
        },
        "id": "1coDy87pGjoI",
        "outputId": "73e35ae6-e7d5-4726-db82-837f2e2afff7"
      },
      "execution_count": null,
      "outputs": [
        {
          "output_type": "stream",
          "name": "stdout",
          "text": [
            "El rating predicho para 'Alice' y 'Shallow' es: 3.00\n"
          ]
        }
      ]
    },
    {
      "cell_type": "markdown",
      "source": [
        "Ejemplo de predicción personalizada"
      ],
      "metadata": {
        "id": "HjDB5uu6GUQ4"
      }
    },
    {
      "cell_type": "code",
      "source": [
        "algo.predict('Alice', 'Shallow')"
      ],
      "metadata": {
        "colab": {
          "base_uri": "https://localhost:8080/"
        },
        "id": "qtv6KUEyGVbU",
        "outputId": "148e160c-4fcd-4b73-9c70-230ab6ecafa4"
      },
      "execution_count": null,
      "outputs": [
        {
          "output_type": "execute_result",
          "data": {
            "text/plain": [
              "Prediction(uid='Alice', iid='Shallow', r_ui=None, est=3.0, details={'actual_k': 2, 'was_impossible': False})"
            ]
          },
          "metadata": {},
          "execution_count": 10
        }
      ]
    },
    {
      "cell_type": "code",
      "source": [
        "#recomendaciones para Bob\n",
        "import pandas as pd\n",
        "def recommend_song_for_user(user_id, df, algo, n=1):\n",
        "    \"\"\"\n",
        "    Recomienda las n canciones con el rating predicho más alto para un usuario dado.\n",
        "\n",
        "    Args:\n",
        "        user_id (str): El ID del usuario para el que se harán las recomendaciones.\n",
        "        df (pd.DataFrame): El DataFrame original con los datos de ratings.\n",
        "        algo: El modelo de recomendación entrenado de Surprise.\n",
        "        n (int): El número de canciones a recomendar.\n",
        "\n",
        "    Returns:\n",
        "        list: Una lista de tuplas (song_title, predicted_rating) con las n canciones recomendadas.\n",
        "              Retorna una lista vacía si el usuario no está en el dataset o no hay canciones no calificadas.\n",
        "    \"\"\"\n",
        "    if user_id not in df['userID'].unique():\n",
        "        print(f\"Usuario '{user_id}' no encontrado en el dataset.\")\n",
        "        return []\n",
        "\n",
        "    # Obtener todas las canciones únicas en el dataset\n",
        "    all_songs = df['songID'].unique()\n",
        "\n",
        "    # Obtener las canciones que el usuario ya ha calificado\n",
        "    rated_songs = df[df['userID'] == user_id]['songID'].tolist()\n",
        "\n",
        "    # Identificar las canciones que el usuario aún no ha calificado\n",
        "    unrated_songs = [song for song in all_songs if song not in rated_songs]\n",
        "\n",
        "    if not unrated_songs:\n",
        "        print(f\"El usuario '{user_id}' ya ha calificado todas las canciones disponibles.\")\n",
        "        return []\n",
        "\n",
        "    # Predecir ratings para las canciones no calificadas\n",
        "    predictions = []\n",
        "    for song in unrated_songs:\n",
        "        prediction = algo.predict(user_id, song)\n",
        "        predictions.append((song, prediction.est))\n",
        "\n",
        "    # Ordenar las predicciones por rating predicho en orden descendente\n",
        "    predictions.sort(key=lambda x: x[1], reverse=True)\n",
        "\n",
        "    # Devolver las top n recomendaciones\n",
        "    return predictions[:n]\n",
        "\n",
        "# Ejemplo de uso:\n",
        "user_to_recommend_for = 'Bob' # Puedes cambiar este usuario\n",
        "\n",
        "recommended_songs = recommend_song_for_user(user_to_recommend_for, df, algo, n=3)\n",
        "\n",
        "if recommended_songs:\n",
        "    print(f\"\\nCanciones recomendadas para '{user_to_recommend_for}':\")\n",
        "    for song, rating in recommended_songs:\n",
        "        print(f\"- '{song}' con rating predicho: {rating:.2f}\")\n"
      ],
      "metadata": {
        "colab": {
          "base_uri": "https://localhost:8080/"
        },
        "id": "L4W50ewyHiif",
        "outputId": "ad69abd7-14d8-469c-e609-dc1e75db578b"
      },
      "execution_count": null,
      "outputs": [
        {
          "output_type": "stream",
          "name": "stdout",
          "text": [
            "\n",
            "Canciones recomendadas para 'Bob':\n",
            "- 'Senorita' con rating predicho: 4.39\n",
            "- 'Good 4 U' con rating predicho: 3.38\n",
            "- 'Shallow' con rating predicho: 3.00\n"
          ]
        }
      ]
    }
  ]
}